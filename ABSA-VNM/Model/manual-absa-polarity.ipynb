{
 "cells": [
  {
   "cell_type": "markdown",
   "metadata": {},
   "source": [
    "# Aspect-Based Sentiment Analysis (ABSA) for Vietnamese Text"
   ]
  },
  {
   "cell_type": "markdown",
   "metadata": {},
   "source": [
    "## SECTION 1: Setup and Initialization\n",
    "In this section, we:\n",
    "- Import necessary libraries (json, torch, transformers)\n",
    "- Load a pre-trained RoBERTa model and tokenizer for Vietnamese sentiment analysis\n",
    "- Define utility functions for JSON data loading\n",
    "\n",
    "The model used is \"wonrax/phobert-base-vietnamese-sentiment\", which is specifically trained for Vietnamese language sentiment analysis.\n"
   ]
  },
  {
   "cell_type": "code",
   "execution_count": null,
   "metadata": {},
   "outputs": [],
   "source": [
    "import json\n",
    "import torch\n",
    "from transformers import RobertaForSequenceClassification, AutoTokenizer\n",
    "\n",
    "# Load the model and tokenizer\n",
    "model = RobertaForSequenceClassification.from_pretrained(\"wonrax/phobert-base-vietnamese-sentiment\")\n",
    "tokenizer = AutoTokenizer.from_pretrained(\"wonrax/phobert-base-vietnamese-sentiment\", use_fast=False)\n",
    "\n",
    "def load_json_data(file_path):\n",
    "    with open(file_path, 'r', encoding='utf-8') as file:\n",
    "        return json.load(file)\n"
   ]
  },
  {
   "cell_type": "markdown",
   "metadata": {},
   "source": [
    "## SECTION 2: Sentiment Analysis Functions\n",
    "This section includes functions for:\n",
    "- Analyzing sentiment of a given text\n",
    "- Determining the dominant sentiment\n",
    "- Mapping sentiment to polarity (NEG, POS, NEU)\n",
    "\n",
    "The `analyze_sentiment` function uses the loaded model to predict sentiment probabilities for a given text. The `get_dominant_sentiment` and `sentiment_to_polarity` functions process these probabilities into a final sentiment classification.\n"
   ]
  },
  {
   "cell_type": "code",
   "execution_count": null,
   "metadata": {},
   "outputs": [],
   "source": [
    "def analyze_sentiment(text):\n",
    "    input_ids = torch.tensor([tokenizer.encode(text)])\n",
    "    with torch.no_grad():\n",
    "        out = model(input_ids)\n",
    "        probs = out.logits.softmax(dim=-1).tolist()[0]\n",
    "    return {\n",
    "        \"Negative\": probs[0],\n",
    "        \"Positive\": probs[1],\n",
    "        \"Neutral\": probs[2]\n",
    "    }\n",
    "\n",
    "def get_dominant_sentiment(sentiment_dict):\n",
    "    return max(sentiment_dict, key=sentiment_dict.get)\n",
    "\n",
    "def sentiment_to_polarity(sentiment):\n",
    "    mapping = {\n",
    "        \"negative\": \"NEG\",\n",
    "        \"positive\": \"POS\",\n",
    "        \"neutral\": \"NEU\"\n",
    "    }\n",
    "    return mapping.get(sentiment.lower(), \"NEU\")\n"
   ]
  },
  {
   "cell_type": "markdown",
   "metadata": {},
   "source": [
    "## SECTION 3: Feedback Processing\n",
    "The `process_feedback` function is the core of the ABSA method. It:\n",
    "- Iterates through aspects and their terms in the feedback\n",
    "- Extracts context around each aspect term\n",
    "- Analyzes sentiment for each context\n",
    "- Generates results including aspect category, terms, polarity, and sentiment score\n",
    "\n",
    "This function implements the aspect-based approach by analyzing sentiment specifically for the context of each aspect term.\n"
   ]
  },
  {
   "cell_type": "code",
   "execution_count": null,
   "metadata": {},
   "outputs": [],
   "source": [
    "def process_feedback(feedback):\n",
    "    content = feedback['Content']\n",
    "    results = []\n",
    "    \n",
    "    for aspect in feedback['Aspects']:\n",
    "        for term in aspect['AspectTerms']:\n",
    "            # Find the context around the term (you may need to adjust this logic)\n",
    "            start = max(0, content.find(term) - 20)\n",
    "            end = min(len(content), content.find(term) + len(term) + 20)\n",
    "            context = content[start:end]\n",
    "            \n",
    "            sentiment = analyze_sentiment(context)\n",
    "            dominant_sentiment = get_dominant_sentiment(sentiment)\n",
    "            dominant_score = round(sentiment[dominant_sentiment], 3)\n",
    "            \n",
    "            results.append({\n",
    "                'AspectCategory': aspect['AspectCategory'],\n",
    "                'AspectTerms': term,\n",
    "                'Polarity': sentiment_to_polarity(dominant_sentiment),\n",
    "                'DominantScore': dominant_score\n",
    "            })\n",
    "    \n",
    "    return results\n"
   ]
  },
  {
   "cell_type": "markdown",
   "metadata": {},
   "source": [
    "## SECTION 4: Data Processing and Output\n",
    "The final section of the script:\n",
    "- Loads JSON data from 'manual_labelling.json'\n",
    "- Processes each feedback entry using the ABSA method\n",
    "- Structures the results into a new format\n",
    "- Writes the processed data to 'processed.json'\n",
    "\n",
    "This section ties together all the previous functions to process a dataset and output the results in a structured JSON format.\n"
   ]
  },
  {
   "cell_type": "code",
   "execution_count": null,
   "metadata": {},
   "outputs": [],
   "source": [
    "# Load and process the JSON data\n",
    "json_data = load_json_data('manual_labelling.json')\n",
    "\n",
    "# Process each feedback entry\n",
    "processed_data = []\n",
    "for feedback in json_data:\n",
    "    processed_feedback = {\n",
    "        'GeneralFeedbackID': feedback['GeneralFeedbackID'],\n",
    "        'ID': feedback['ID'],\n",
    "        'Content': feedback['Content'],\n",
    "        'Aspects': process_feedback(feedback)\n",
    "    }\n",
    "    processed_data.append(processed_feedback)\n",
    "\n",
    "# Write the processed data to a JSON file\n",
    "with open('processed.json', 'w', encoding='utf-8') as file:\n",
    "    json.dump(processed_data, file, ensure_ascii=False, indent=2)\n",
    "\n",
    "print(\"Processing complete. Results saved to 'processed.json'.\")"
   ]
  }
 ],
 "metadata": {
  "language_info": {
   "name": "python"
  }
 },
 "nbformat": 4,
 "nbformat_minor": 2
}
