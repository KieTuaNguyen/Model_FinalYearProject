{
 "cells": [
  {
   "cell_type": "markdown",
   "metadata": {},
   "source": [
    "Input: \n",
    "```\n",
    "    màn hình tốt nhưng giao chậm\n",
    "```\n",
    "\n",
    "Output as JSON: \n",
    "```json\n",
    "{\n",
    "  {\n",
    "    \"GeneralFeedbackID\": 123214,\n",
    "    \"ID\": 0,\n",
    "    \"Content\": \"màn hình tốt nhưng giao chậm\",\n",
    "    \"Aspects\": [\n",
    "      {\n",
    "        \"AspectCategory\": \"Về Sản Phẩm\",\n",
    "        \"AspectTerms\": [\n",
    "          \"màn hình\"\n",
    "        ]\n",
    "      },\n",
    "      {\n",
    "        \"AspectCategory\": \"Về Dịch Vụ\",\n",
    "        \"AspectTerms\": [\n",
    "          \"giao\"\n",
    "        ]\n",
    "      }\n",
    "    ]\n",
    "  }\n",
    "}\n",
    "```"
   ]
  },
  {
   "cell_type": "code",
   "execution_count": null,
   "metadata": {},
   "outputs": [
    {
     "name": "stderr",
     "output_type": "stream",
     "text": [
      "Asking to truncate to max_length but no maximum length is provided and the model has no predefined maximum length. Default to no truncation.\n"
     ]
    },
    {
     "name": "stdout",
     "output_type": "stream",
     "text": [
      "aspect: \n"
     ]
    }
   ],
   "source": [
    "# Model: https://huggingface.co/NlpHUST/vi-word-segmentation\n",
    "\n",
    "from transformers import AutoTokenizer, AutoModelForTokenClassification\n",
    "from transformers import pipeline\n",
    "\n",
    "tokenizer = AutoTokenizer.from_pretrained(\"NlpHUST/vi-word-segmentation\")\n",
    "model = AutoModelForTokenClassification.from_pretrained(\"NlpHUST/vi-word-segmentation\")\n",
    "\n",
    "nlp = pipeline(\"token-classification\", model=model, tokenizer=tokenizer)\n",
    "example = \"sản phẩm giao đúng vận chuyển thấy ok\"\n",
    "# example = \"màn hình tốt nhưng giao chậm\"\n",
    "\n",
    "ner_results = nlp(example)\n",
    "\n",
    "# Process results to find multi-word aspect\n",
    "aspect = []\n",
    "current_aspect = []\n",
    "\n",
    "for token in ner_results:\n",
    "    if token['entity'] == 'B':\n",
    "        if current_aspect:\n",
    "            aspect.append('_'.join(current_aspect))\n",
    "            current_aspect = []\n",
    "        current_aspect.append(token['word'])\n",
    "    elif token['entity'] == 'I':\n",
    "        current_aspect.append(token['word'])\n",
    "\n",
    "# Add the last term if there is one\n",
    "if current_aspect:\n",
    "    aspect.append('_'.join(current_aspect))\n",
    "\n",
    "# Filter out single-word aspect\n",
    "multi_word_aspect = [term for term in aspect if '_' in term]\n",
    "\n",
    "# Print the result\n",
    "print(\"aspect:\", ', '.join(multi_word_aspect))"
   ]
  }
 ],
 "metadata": {
  "kernelspec": {
   "display_name": "Python 3",
   "language": "python",
   "name": "python3"
  },
  "language_info": {
   "codemirror_mode": {
    "name": "ipython",
    "version": 3
   },
   "file_extension": ".py",
   "mimetype": "text/x-python",
   "name": "python",
   "nbconvert_exporter": "python",
   "pygments_lexer": "ipython3",
   "version": "3.12.1"
  }
 },
 "nbformat": 4,
 "nbformat_minor": 2
}
