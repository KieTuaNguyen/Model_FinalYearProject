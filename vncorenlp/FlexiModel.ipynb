{
 "cells": [
  {
   "cell_type": "code",
   "execution_count": 1,
   "metadata": {},
   "outputs": [
    {
     "name": "stdout",
     "output_type": "stream",
     "text": [
      "WARNING:tensorflow:From c:\\Users\\kietd\\AppData\\Local\\Programs\\Python\\Python312\\Lib\\site-packages\\tf_keras\\src\\losses.py:2976: The name tf.losses.sparse_softmax_cross_entropy is deprecated. Please use tf.compat.v1.losses.sparse_softmax_cross_entropy instead.\n",
      "\n"
     ]
    }
   ],
   "source": [
    "\n",
    "import json\n",
    "import os\n",
    "import torch\n",
    "from datasets import Dataset\n",
    "from transformers import (\n",
    "    AutoTokenizer, AutoModelForSeq2SeqLM, DataCollatorForSeq2Seq,\n",
    "    Seq2SeqTrainer, Seq2SeqTrainingArguments, T5ForConditionalGeneration,\n",
    "    T5Tokenizer, TrainerCallback\n",
    ")\n",
    "import matplotlib.pyplot as plt\n",
    "from functools import partial\n"
   ]
  },
  {
   "cell_type": "code",
   "execution_count": 2,
   "metadata": {},
   "outputs": [],
   "source": [
    "\n",
    "class MetricsCallback(TrainerCallback):\n",
    "    def __init__(self):\n",
    "        self.training_loss = []\n",
    "        self.eval_loss = []\n",
    "        self.training_accuracy = []\n",
    "        self.eval_accuracy = []\n",
    "        \n",
    "    def on_log(self, args, state, control, logs=None, **kwargs):\n",
    "        if logs:\n",
    "            if 'loss' in logs:\n",
    "                self.training_loss.append((state.global_step, logs['loss']))\n",
    "            if 'eval_loss' in logs:\n",
    "                self.eval_loss.append((state.global_step, logs['eval_loss']))\n",
    "            if 'accuracy' in logs:\n",
    "                self.training_accuracy.append((state.global_step, logs['accuracy']))\n",
    "            if 'eval_accuracy' in logs:\n",
    "                self.eval_accuracy.append((state.global_step, logs['eval_accuracy']))\n"
   ]
  },
  {
   "cell_type": "code",
   "execution_count": 3,
   "metadata": {},
   "outputs": [
    {
     "data": {
      "application/vnd.jupyter.widget-view+json": {
       "model_id": "fb9311c0081f47c39bc80caaecc0e742",
       "version_major": 2,
       "version_minor": 0
      },
      "text/plain": [
       "config.json:   0%|          | 0.00/1.21k [00:00<?, ?B/s]"
      ]
     },
     "metadata": {},
     "output_type": "display_data"
    },
    {
     "data": {
      "application/vnd.jupyter.widget-view+json": {
       "model_id": "d76b5edf5a854c5ea98cfa96f43d0411",
       "version_major": 2,
       "version_minor": 0
      },
      "text/plain": [
       "model.safetensors:   0%|          | 0.00/242M [00:00<?, ?B/s]"
      ]
     },
     "metadata": {},
     "output_type": "display_data"
    },
    {
     "name": "stderr",
     "output_type": "stream",
     "text": [
      "Error while downloading from https://cdn-lfs.hf.co/t5-small/bd944e5f1b3ad9b70dd9d00010a517059e19265671076b8b0a4a58d9491842bc?response-content-disposition=inline%3B+filename*%3DUTF-8%27%27model.safetensors%3B+filename%3D%22model.safetensors%22%3B&Expires=1733061408&Policy=eyJTdGF0ZW1lbnQiOlt7IkNvbmRpdGlvbiI6eyJEYXRlTGVzc1RoYW4iOnsiQVdTOkVwb2NoVGltZSI6MTczMzA2MTQwOH19LCJSZXNvdXJjZSI6Imh0dHBzOi8vY2RuLWxmcy5oZi5jby90NS1zbWFsbC9iZDk0NGU1ZjFiM2FkOWI3MGRkOWQwMDAxMGE1MTcwNTllMTkyNjU2NzEwNzZiOGIwYTRhNThkOTQ5MTg0MmJjP3Jlc3BvbnNlLWNvbnRlbnQtZGlzcG9zaXRpb249KiJ9XX0_&Signature=RA%7E9%7EQBEA4WVnNcgkZioCr1mf-NYNKBU3jLrjBeC42o8mKRDbV5H0FxOGvpIO-Qsoa0BzY01%7EaTX5xNzitZ%7ElKwL1ZroeZ-XoN5ETGoaO1pEDBu2Mtm8fmkW8xOg%7E3kbn9WAgV8SyWO80B4hV0Q1L%7ERpXgFWkiYvzPVqFJYBK9rtZ1nyUAZiOk2WjQ1ic5cktUeyshr3YoKdysA4sW7Vdi4d%7E%7EkQLpHKzd32wfxuHz8Ceo7PjDVpaUsPvmrXdxQOlktxgN9bJjGT2WVMCP1LvapmIH9pMz3P45DHbFX1LZ5wCUC%7EwV45eXQKQtY0Gcqq-DrFu6rwuggUjdlcZBf8hQ__&Key-Pair-Id=K3RPWS32NSSJCE: HTTPSConnectionPool(host='cdn-lfs.hf.co', port=443): Read timed out.\n",
      "Trying to resume download...\n"
     ]
    },
    {
     "data": {
      "application/vnd.jupyter.widget-view+json": {
       "model_id": "0223556b532a4207874fcfc3043e82a0",
       "version_major": 2,
       "version_minor": 0
      },
      "text/plain": [
       "model.safetensors:  48%|####7     | 115M/242M [00:00<?, ?B/s]"
      ]
     },
     "metadata": {},
     "output_type": "display_data"
    },
    {
     "data": {
      "application/vnd.jupyter.widget-view+json": {
       "model_id": "1d3cc020ab12474da5c2f4a38158fb01",
       "version_major": 2,
       "version_minor": 0
      },
      "text/plain": [
       "generation_config.json:   0%|          | 0.00/147 [00:00<?, ?B/s]"
      ]
     },
     "metadata": {},
     "output_type": "display_data"
    },
    {
     "data": {
      "application/vnd.jupyter.widget-view+json": {
       "model_id": "242d61a1146c446a8014f2537a673a4d",
       "version_major": 2,
       "version_minor": 0
      },
      "text/plain": [
       "tokenizer_config.json:   0%|          | 0.00/2.32k [00:00<?, ?B/s]"
      ]
     },
     "metadata": {},
     "output_type": "display_data"
    },
    {
     "data": {
      "application/vnd.jupyter.widget-view+json": {
       "model_id": "e977ebefc167488e9acf13631d36f6e7",
       "version_major": 2,
       "version_minor": 0
      },
      "text/plain": [
       "spiece.model:   0%|          | 0.00/792k [00:00<?, ?B/s]"
      ]
     },
     "metadata": {},
     "output_type": "display_data"
    },
    {
     "data": {
      "application/vnd.jupyter.widget-view+json": {
       "model_id": "eb91bf55db194ab8992e02ed982a7c80",
       "version_major": 2,
       "version_minor": 0
      },
      "text/plain": [
       "tokenizer.json:   0%|          | 0.00/1.39M [00:00<?, ?B/s]"
      ]
     },
     "metadata": {},
     "output_type": "display_data"
    },
    {
     "name": "stderr",
     "output_type": "stream",
     "text": [
      "You are using the default legacy behaviour of the <class 'transformers.models.t5.tokenization_t5.T5Tokenizer'>. This is expected, and simply means that the `legacy` (previous) behavior will be used so nothing changes for you. If you want to use the new behaviour, set `legacy=False`. This should only be set if you understand what it means, and thoroughly read the reason why this was added as explained in https://github.com/huggingface/transformers/pull/24565\n"
     ]
    }
   ],
   "source": [
    "\n",
    "def plot_metrics(callback):\n",
    "    plt.figure(figsize=(12, 8))\n",
    "    plt.subplot(2, 1, 1)\n",
    "    if callback.training_loss:\n",
    "        steps, losses = zip(*callback.training_loss)\n",
    "        plt.plot(steps, losses, label='Training Loss')\n",
    "    if callback.eval_loss:\n",
    "        steps, losses = zip(*callback.eval_loss)\n",
    "        plt.plot(steps, losses, label='Validation Loss')\n",
    "    plt.xlabel('Steps')\n",
    "    plt.ylabel('Loss')\n",
    "    plt.legend()\n",
    "    plt.grid(True)\n",
    "    \n",
    "    plt.subplot(2, 1, 2)\n",
    "    if callback.training_accuracy:\n",
    "        steps, acc = zip(*callback.training_accuracy)\n",
    "        plt.plot(steps, acc, label='Training Accuracy')\n",
    "    if callback.eval_accuracy:\n",
    "        steps, acc = zip(*callback.eval_accuracy)\n",
    "        plt.plot(steps, acc, label='Validation Accuracy')\n",
    "    plt.xlabel('Steps')\n",
    "    plt.ylabel('Accuracy')\n",
    "    plt.legend()\n",
    "    plt.grid(True)\n",
    "    \n",
    "    plt.tight_layout()\n",
    "    plt.savefig('training_metrics.png')\n",
    "    plt.close()\n",
    "\n",
    "model = T5ForConditionalGeneration.from_pretrained('t5-small')\n",
    "tokenizer = T5Tokenizer.from_pretrained('t5-small')"
   ]
  },
  {
   "cell_type": "code",
   "execution_count": 4,
   "metadata": {},
   "outputs": [],
   "source": [
    "def preprocess_function(examples, tokenizer):\n",
    "    model_inputs = tokenizer(examples['inputs'], truncation=True, padding=True, max_length=128)\n",
    "    with tokenizer.as_target_tokenizer():\n",
    "        labels = tokenizer(examples['labels'], truncation=True, padding=True, max_length=128)\n",
    "    model_inputs[\"labels\"] = labels[\"input_ids\"]\n",
    "    return model_inputs\n",
    "\n",
    "preprocess_function_with_tokenizer = partial(preprocess_function, tokenizer=tokenizer)"
   ]
  },
  {
   "cell_type": "code",
   "execution_count": 5,
   "metadata": {},
   "outputs": [
    {
     "data": {
      "application/vnd.jupyter.widget-view+json": {
       "model_id": "9ebd82f9c6d343f18fc1b1e9f62035a8",
       "version_major": 2,
       "version_minor": 0
      },
      "text/plain": [
       "Map (num_proc=8):   0%|          | 0/1100 [00:00<?, ? examples/s]"
      ]
     },
     "metadata": {},
     "output_type": "display_data"
    }
   ],
   "source": [
    "\n",
    "# Load and prepare data\n",
    "with open('label_subset.json', 'r', encoding='utf-8-sig') as file:\n",
    "    data = json.load(file)\n",
    "\n",
    "input_lines = []\n",
    "label_lines = []\n",
    "for entry in data:\n",
    "    input_lines.append(entry['Content'])\n",
    "    aspects = [term for aspect in entry['Aspects'] for term in aspect['AspectTerms']]\n",
    "    label_lines.append(' '.join(aspects))\n",
    "\n",
    "dataset = Dataset.from_dict({'inputs': input_lines, 'labels': label_lines})\n",
    "tokenized_datasets = dataset.map(\n",
    "    preprocess_function_with_tokenizer,\n",
    "    batched=True,\n",
    "    remove_columns=['inputs'],\n",
    "    num_proc=8\n",
    ")"
   ]
  },
  {
   "cell_type": "code",
   "execution_count": 6,
   "metadata": {},
   "outputs": [
    {
     "name": "stderr",
     "output_type": "stream",
     "text": [
      "c:\\Users\\kietd\\AppData\\Local\\Programs\\Python\\Python312\\Lib\\site-packages\\transformers\\training_args.py:1525: FutureWarning: `evaluation_strategy` is deprecated and will be removed in version 4.46 of 🤗 Transformers. Use `eval_strategy` instead\n",
      "  warnings.warn(\n"
     ]
    }
   ],
   "source": [
    "\n",
    "# Split dataset into train and validation\n",
    "train_test_split = tokenized_datasets.train_test_split(test_size=0.2)\n",
    "\n",
    "data_collator = DataCollatorForSeq2Seq(tokenizer, model=model, return_tensors=\"pt\")\n",
    "\n",
    "training_args = Seq2SeqTrainingArguments(\n",
    "    \"./\",\n",
    "    do_train=True,\n",
    "    do_eval=True,  # Enable evaluation\n",
    "    evaluation_strategy=\"epoch\",  # Evaluate after each epoch\n",
    "    num_train_epochs=30,\n",
    "    learning_rate=1e-5,\n",
    "    warmup_ratio=0.05,\n",
    "    weight_decay=0.01,\n",
    "    per_device_train_batch_size=1,\n",
    "    per_device_eval_batch_size=1,\n",
    "    logging_dir='./',\n",
    "    group_by_length=True,\n",
    "    save_strategy=\"epoch\",\n",
    "    save_total_limit=3,\n",
    "    fp16=True,\n",
    "    metric_for_best_model=\"eval_loss\",\n",
    "    load_best_model_at_end=True,\n",
    ")\n",
    "\n",
    "trainer = Seq2SeqTrainer(\n",
    "    model=model,\n",
    "    args=training_args,\n",
    "    train_dataset=train_test_split['train'],\n",
    "    eval_dataset=train_test_split['test'],\n",
    "    data_collator=data_collator,\n",
    "    tokenizer=tokenizer\n",
    ")\n",
    "\n",
    "# Add callbacks\n",
    "metrics_callback = MetricsCallback()\n",
    "trainer.add_callback(metrics_callback)"
   ]
  },
  {
   "cell_type": "code",
   "execution_count": 7,
   "metadata": {},
   "outputs": [
    {
     "data": {
      "application/vnd.jupyter.widget-view+json": {
       "model_id": "90976e45b3bc4ee7b20666ede9dc08d2",
       "version_major": 2,
       "version_minor": 0
      },
      "text/plain": [
       "  0%|          | 0/26400 [00:00<?, ?it/s]"
      ]
     },
     "metadata": {},
     "output_type": "display_data"
    },
    {
     "name": "stdout",
     "output_type": "stream",
     "text": [
      "{'loss': 9.8962, 'grad_norm': 64.56928253173828, 'learning_rate': 3.7878787878787882e-06, 'epoch': 0.57}\n"
     ]
    },
    {
     "data": {
      "application/vnd.jupyter.widget-view+json": {
       "model_id": "dfacdb110e7d4748893cbfb24fa89779",
       "version_major": 2,
       "version_minor": 0
      },
      "text/plain": [
       "  0%|          | 0/220 [00:00<?, ?it/s]"
      ]
     },
     "metadata": {},
     "output_type": "display_data"
    },
    {
     "name": "stdout",
     "output_type": "stream",
     "text": [
      "{'eval_loss': 0.886273980140686, 'eval_runtime': 11.8453, 'eval_samples_per_second': 18.573, 'eval_steps_per_second': 18.573, 'epoch': 1.0}\n",
      "{'loss': 3.183, 'grad_norm': 20.994333267211914, 'learning_rate': 7.5757575757575764e-06, 'epoch': 1.14}\n",
      "{'loss': 1.1187, 'grad_norm': 8.19991683959961, 'learning_rate': 9.928229665071771e-06, 'epoch': 1.7}\n"
     ]
    },
    {
     "data": {
      "application/vnd.jupyter.widget-view+json": {
       "model_id": "9f27435eb6b2494ba9407634e5273c1e",
       "version_major": 2,
       "version_minor": 0
      },
      "text/plain": [
       "  0%|          | 0/220 [00:00<?, ?it/s]"
      ]
     },
     "metadata": {},
     "output_type": "display_data"
    },
    {
     "name": "stdout",
     "output_type": "stream",
     "text": [
      "{'eval_loss': 0.49046215415000916, 'eval_runtime': 13.4029, 'eval_samples_per_second': 16.414, 'eval_steps_per_second': 16.414, 'epoch': 2.0}\n",
      "{'loss': 0.8332, 'grad_norm': 758.3807983398438, 'learning_rate': 9.728867623604467e-06, 'epoch': 2.27}\n",
      "{'loss': 0.519, 'grad_norm': 6.420949459075928, 'learning_rate': 9.529505582137162e-06, 'epoch': 2.84}\n"
     ]
    },
    {
     "data": {
      "application/vnd.jupyter.widget-view+json": {
       "model_id": "26818d9e07d6480cb4082c6b7427ac10",
       "version_major": 2,
       "version_minor": 0
      },
      "text/plain": [
       "  0%|          | 0/220 [00:00<?, ?it/s]"
      ]
     },
     "metadata": {},
     "output_type": "display_data"
    },
    {
     "name": "stdout",
     "output_type": "stream",
     "text": [
      "{'eval_loss': 0.285758912563324, 'eval_runtime': 12.7319, 'eval_samples_per_second': 17.279, 'eval_steps_per_second': 17.279, 'epoch': 3.0}\n",
      "{'loss': 0.4504, 'grad_norm': 3.16291880607605, 'learning_rate': 9.330143540669856e-06, 'epoch': 3.41}\n",
      "{'loss': 0.3356, 'grad_norm': 26.585309982299805, 'learning_rate': 9.130781499202552e-06, 'epoch': 3.98}\n"
     ]
    },
    {
     "data": {
      "application/vnd.jupyter.widget-view+json": {
       "model_id": "3ce78a59428544a69496fb26e00f226f",
       "version_major": 2,
       "version_minor": 0
      },
      "text/plain": [
       "  0%|          | 0/220 [00:00<?, ?it/s]"
      ]
     },
     "metadata": {},
     "output_type": "display_data"
    },
    {
     "name": "stdout",
     "output_type": "stream",
     "text": [
      "{'eval_loss': 0.2412767857313156, 'eval_runtime': 14.8512, 'eval_samples_per_second': 14.814, 'eval_steps_per_second': 14.814, 'epoch': 4.0}\n",
      "{'loss': 0.2969, 'grad_norm': 3.602818012237549, 'learning_rate': 8.931419457735247e-06, 'epoch': 4.55}\n"
     ]
    },
    {
     "data": {
      "application/vnd.jupyter.widget-view+json": {
       "model_id": "41c3fb9d161b4a98a431f1bbc57f5720",
       "version_major": 2,
       "version_minor": 0
      },
      "text/plain": [
       "  0%|          | 0/220 [00:00<?, ?it/s]"
      ]
     },
     "metadata": {},
     "output_type": "display_data"
    },
    {
     "name": "stdout",
     "output_type": "stream",
     "text": [
      "{'eval_loss': 0.22292950749397278, 'eval_runtime': 15.5162, 'eval_samples_per_second': 14.179, 'eval_steps_per_second': 14.179, 'epoch': 5.0}\n",
      "{'loss': 0.2991, 'grad_norm': 0.525290846824646, 'learning_rate': 8.732057416267943e-06, 'epoch': 5.11}\n",
      "{'loss': 0.2827, 'grad_norm': 1.058815598487854, 'learning_rate': 8.53269537480064e-06, 'epoch': 5.68}\n"
     ]
    },
    {
     "data": {
      "application/vnd.jupyter.widget-view+json": {
       "model_id": "e81260c6dc094174a821c91c588720e2",
       "version_major": 2,
       "version_minor": 0
      },
      "text/plain": [
       "  0%|          | 0/220 [00:00<?, ?it/s]"
      ]
     },
     "metadata": {},
     "output_type": "display_data"
    },
    {
     "name": "stdout",
     "output_type": "stream",
     "text": [
      "{'eval_loss': 0.20531824231147766, 'eval_runtime': 13.8362, 'eval_samples_per_second': 15.9, 'eval_steps_per_second': 15.9, 'epoch': 6.0}\n",
      "{'loss': 0.2617, 'grad_norm': 0.7397129535675049, 'learning_rate': 8.333333333333334e-06, 'epoch': 6.25}\n",
      "{'loss': 0.2312, 'grad_norm': 8.732197761535645, 'learning_rate': 8.13397129186603e-06, 'epoch': 6.82}\n"
     ]
    },
    {
     "data": {
      "application/vnd.jupyter.widget-view+json": {
       "model_id": "33c86afd00df40c0ade0e247a69e79a9",
       "version_major": 2,
       "version_minor": 0
      },
      "text/plain": [
       "  0%|          | 0/220 [00:00<?, ?it/s]"
      ]
     },
     "metadata": {},
     "output_type": "display_data"
    },
    {
     "name": "stdout",
     "output_type": "stream",
     "text": [
      "{'eval_loss': 0.1987317055463791, 'eval_runtime': 13.3728, 'eval_samples_per_second': 16.451, 'eval_steps_per_second': 16.451, 'epoch': 7.0}\n",
      "{'loss': 0.2148, 'grad_norm': 3.3713154792785645, 'learning_rate': 7.934609250398724e-06, 'epoch': 7.39}\n",
      "{'loss': 0.2509, 'grad_norm': 0.5917288661003113, 'learning_rate': 7.73524720893142e-06, 'epoch': 7.95}\n"
     ]
    },
    {
     "data": {
      "application/vnd.jupyter.widget-view+json": {
       "model_id": "46c292523a3c47ff9e8452e2ef6df815",
       "version_major": 2,
       "version_minor": 0
      },
      "text/plain": [
       "  0%|          | 0/220 [00:00<?, ?it/s]"
      ]
     },
     "metadata": {},
     "output_type": "display_data"
    },
    {
     "name": "stdout",
     "output_type": "stream",
     "text": [
      "{'eval_loss': 0.18850266933441162, 'eval_runtime': 13.4504, 'eval_samples_per_second': 16.356, 'eval_steps_per_second': 16.356, 'epoch': 8.0}\n",
      "{'loss': 0.2247, 'grad_norm': 0.5475296974182129, 'learning_rate': 7.535885167464115e-06, 'epoch': 8.52}\n"
     ]
    },
    {
     "data": {
      "application/vnd.jupyter.widget-view+json": {
       "model_id": "f4fb1762ef704018a253718a9a80646b",
       "version_major": 2,
       "version_minor": 0
      },
      "text/plain": [
       "  0%|          | 0/220 [00:00<?, ?it/s]"
      ]
     },
     "metadata": {},
     "output_type": "display_data"
    },
    {
     "name": "stdout",
     "output_type": "stream",
     "text": [
      "{'eval_loss': 0.18588104844093323, 'eval_runtime': 13.4189, 'eval_samples_per_second': 16.395, 'eval_steps_per_second': 16.395, 'epoch': 9.0}\n",
      "{'loss': 0.247, 'grad_norm': 1.4515035152435303, 'learning_rate': 7.33652312599681e-06, 'epoch': 9.09}\n",
      "{'loss': 0.2141, 'grad_norm': 6.817032814025879, 'learning_rate': 7.137161084529506e-06, 'epoch': 9.66}\n"
     ]
    },
    {
     "data": {
      "application/vnd.jupyter.widget-view+json": {
       "model_id": "0cd062a0ad1c489e804f9c9a34470093",
       "version_major": 2,
       "version_minor": 0
      },
      "text/plain": [
       "  0%|          | 0/220 [00:00<?, ?it/s]"
      ]
     },
     "metadata": {},
     "output_type": "display_data"
    },
    {
     "name": "stdout",
     "output_type": "stream",
     "text": [
      "{'eval_loss': 0.18486954271793365, 'eval_runtime': 13.1969, 'eval_samples_per_second': 16.671, 'eval_steps_per_second': 16.671, 'epoch': 10.0}\n",
      "{'loss': 0.2203, 'grad_norm': 0.2443014681339264, 'learning_rate': 6.937799043062201e-06, 'epoch': 10.23}\n",
      "{'loss': 0.1963, 'grad_norm': 8.404133796691895, 'learning_rate': 6.738437001594896e-06, 'epoch': 10.8}\n"
     ]
    },
    {
     "data": {
      "application/vnd.jupyter.widget-view+json": {
       "model_id": "6ac915280dd843b48ee74b5aa3670d54",
       "version_major": 2,
       "version_minor": 0
      },
      "text/plain": [
       "  0%|          | 0/220 [00:00<?, ?it/s]"
      ]
     },
     "metadata": {},
     "output_type": "display_data"
    },
    {
     "name": "stdout",
     "output_type": "stream",
     "text": [
      "{'eval_loss': 0.17653770744800568, 'eval_runtime': 12.6521, 'eval_samples_per_second': 17.388, 'eval_steps_per_second': 17.388, 'epoch': 11.0}\n",
      "{'loss': 0.1922, 'grad_norm': 1.2596862316131592, 'learning_rate': 6.539074960127592e-06, 'epoch': 11.36}\n",
      "{'loss': 0.215, 'grad_norm': 3.5425591468811035, 'learning_rate': 6.339712918660288e-06, 'epoch': 11.93}\n"
     ]
    },
    {
     "data": {
      "application/vnd.jupyter.widget-view+json": {
       "model_id": "c70f10db0a3a4179840d0309d9732a63",
       "version_major": 2,
       "version_minor": 0
      },
      "text/plain": [
       "  0%|          | 0/220 [00:00<?, ?it/s]"
      ]
     },
     "metadata": {},
     "output_type": "display_data"
    },
    {
     "name": "stdout",
     "output_type": "stream",
     "text": [
      "{'eval_loss': 0.17580898106098175, 'eval_runtime': 13.5901, 'eval_samples_per_second': 16.188, 'eval_steps_per_second': 16.188, 'epoch': 12.0}\n",
      "{'loss': 0.1939, 'grad_norm': 3.3659377098083496, 'learning_rate': 6.140350877192983e-06, 'epoch': 12.5}\n"
     ]
    },
    {
     "data": {
      "application/vnd.jupyter.widget-view+json": {
       "model_id": "c75a96ec9c964543a6c5d7e9d15d4da0",
       "version_major": 2,
       "version_minor": 0
      },
      "text/plain": [
       "  0%|          | 0/220 [00:00<?, ?it/s]"
      ]
     },
     "metadata": {},
     "output_type": "display_data"
    },
    {
     "name": "stdout",
     "output_type": "stream",
     "text": [
      "{'eval_loss': 0.17344915866851807, 'eval_runtime': 14.4907, 'eval_samples_per_second': 15.182, 'eval_steps_per_second': 15.182, 'epoch': 13.0}\n",
      "{'loss': 0.1856, 'grad_norm': 1.973254919052124, 'learning_rate': 5.940988835725678e-06, 'epoch': 13.07}\n",
      "{'loss': 0.1932, 'grad_norm': 0.2628292143344879, 'learning_rate': 5.741626794258374e-06, 'epoch': 13.64}\n"
     ]
    },
    {
     "data": {
      "application/vnd.jupyter.widget-view+json": {
       "model_id": "09cd63931b0b4526b270af59ab5ae49d",
       "version_major": 2,
       "version_minor": 0
      },
      "text/plain": [
       "  0%|          | 0/220 [00:00<?, ?it/s]"
      ]
     },
     "metadata": {},
     "output_type": "display_data"
    },
    {
     "name": "stdout",
     "output_type": "stream",
     "text": [
      "{'eval_loss': 0.16920267045497894, 'eval_runtime': 13.7681, 'eval_samples_per_second': 15.979, 'eval_steps_per_second': 15.979, 'epoch': 14.0}\n",
      "{'loss': 0.1836, 'grad_norm': 5.494396209716797, 'learning_rate': 5.542264752791069e-06, 'epoch': 14.2}\n",
      "{'loss': 0.1917, 'grad_norm': 5.880309104919434, 'learning_rate': 5.342902711323764e-06, 'epoch': 14.77}\n"
     ]
    },
    {
     "data": {
      "application/vnd.jupyter.widget-view+json": {
       "model_id": "10084c7d94cd465fbf9532966e31db69",
       "version_major": 2,
       "version_minor": 0
      },
      "text/plain": [
       "  0%|          | 0/220 [00:00<?, ?it/s]"
      ]
     },
     "metadata": {},
     "output_type": "display_data"
    },
    {
     "name": "stdout",
     "output_type": "stream",
     "text": [
      "{'eval_loss': 0.16647037863731384, 'eval_runtime': 13.7658, 'eval_samples_per_second': 15.982, 'eval_steps_per_second': 15.982, 'epoch': 15.0}\n",
      "{'loss': 0.2018, 'grad_norm': 1.8423172235488892, 'learning_rate': 5.14354066985646e-06, 'epoch': 15.34}\n",
      "{'loss': 0.1946, 'grad_norm': 3.27961802482605, 'learning_rate': 4.944178628389155e-06, 'epoch': 15.91}\n"
     ]
    },
    {
     "data": {
      "application/vnd.jupyter.widget-view+json": {
       "model_id": "673057f15278433e8a3d00faef7b28e8",
       "version_major": 2,
       "version_minor": 0
      },
      "text/plain": [
       "  0%|          | 0/220 [00:00<?, ?it/s]"
      ]
     },
     "metadata": {},
     "output_type": "display_data"
    },
    {
     "name": "stdout",
     "output_type": "stream",
     "text": [
      "{'eval_loss': 0.16918067634105682, 'eval_runtime': 15.4573, 'eval_samples_per_second': 14.233, 'eval_steps_per_second': 14.233, 'epoch': 16.0}\n",
      "{'loss': 0.1651, 'grad_norm': 1.0964620113372803, 'learning_rate': 4.74481658692185e-06, 'epoch': 16.48}\n"
     ]
    },
    {
     "data": {
      "application/vnd.jupyter.widget-view+json": {
       "model_id": "dc6282dfefcb4292818ac6a2d9f665a9",
       "version_major": 2,
       "version_minor": 0
      },
      "text/plain": [
       "  0%|          | 0/220 [00:00<?, ?it/s]"
      ]
     },
     "metadata": {},
     "output_type": "display_data"
    },
    {
     "name": "stdout",
     "output_type": "stream",
     "text": [
      "{'eval_loss': 0.16769233345985413, 'eval_runtime': 15.7391, 'eval_samples_per_second': 13.978, 'eval_steps_per_second': 13.978, 'epoch': 17.0}\n",
      "{'loss': 0.1887, 'grad_norm': 2.844324827194214, 'learning_rate': 4.5454545454545455e-06, 'epoch': 17.05}\n",
      "{'loss': 0.1847, 'grad_norm': 1.6231828927993774, 'learning_rate': 4.346092503987241e-06, 'epoch': 17.61}\n"
     ]
    },
    {
     "data": {
      "application/vnd.jupyter.widget-view+json": {
       "model_id": "ef32382c27ab40eb8ba7cc19d263c573",
       "version_major": 2,
       "version_minor": 0
      },
      "text/plain": [
       "  0%|          | 0/220 [00:00<?, ?it/s]"
      ]
     },
     "metadata": {},
     "output_type": "display_data"
    },
    {
     "name": "stdout",
     "output_type": "stream",
     "text": [
      "{'eval_loss': 0.16802075505256653, 'eval_runtime': 14.1112, 'eval_samples_per_second': 15.59, 'eval_steps_per_second': 15.59, 'epoch': 18.0}\n",
      "{'loss': 0.1688, 'grad_norm': 0.043068863451480865, 'learning_rate': 4.146730462519937e-06, 'epoch': 18.18}\n",
      "{'loss': 0.18, 'grad_norm': 0.9552457928657532, 'learning_rate': 3.947368421052632e-06, 'epoch': 18.75}\n"
     ]
    },
    {
     "data": {
      "application/vnd.jupyter.widget-view+json": {
       "model_id": "073357b8591b4b6babf110cffebddd53",
       "version_major": 2,
       "version_minor": 0
      },
      "text/plain": [
       "  0%|          | 0/220 [00:00<?, ?it/s]"
      ]
     },
     "metadata": {},
     "output_type": "display_data"
    },
    {
     "name": "stdout",
     "output_type": "stream",
     "text": [
      "{'eval_loss': 0.16649211943149567, 'eval_runtime': 15.151, 'eval_samples_per_second': 14.521, 'eval_steps_per_second': 14.521, 'epoch': 19.0}\n",
      "{'loss': 0.1582, 'grad_norm': 0.8295792937278748, 'learning_rate': 3.748006379585327e-06, 'epoch': 19.32}\n",
      "{'loss': 0.1634, 'grad_norm': 1.1137089729309082, 'learning_rate': 3.5486443381180225e-06, 'epoch': 19.89}\n"
     ]
    },
    {
     "data": {
      "application/vnd.jupyter.widget-view+json": {
       "model_id": "e4e9835d6cc846ce888343a29c6f4507",
       "version_major": 2,
       "version_minor": 0
      },
      "text/plain": [
       "  0%|          | 0/220 [00:00<?, ?it/s]"
      ]
     },
     "metadata": {},
     "output_type": "display_data"
    },
    {
     "name": "stdout",
     "output_type": "stream",
     "text": [
      "{'eval_loss': 0.16525237262248993, 'eval_runtime': 13.537, 'eval_samples_per_second': 16.252, 'eval_steps_per_second': 16.252, 'epoch': 20.0}\n",
      "{'loss': 0.1607, 'grad_norm': 3.077117681503296, 'learning_rate': 3.3492822966507182e-06, 'epoch': 20.45}\n"
     ]
    },
    {
     "data": {
      "application/vnd.jupyter.widget-view+json": {
       "model_id": "8231d1dc2417489cbfe8417094890b86",
       "version_major": 2,
       "version_minor": 0
      },
      "text/plain": [
       "  0%|          | 0/220 [00:00<?, ?it/s]"
      ]
     },
     "metadata": {},
     "output_type": "display_data"
    },
    {
     "name": "stdout",
     "output_type": "stream",
     "text": [
      "{'eval_loss': 0.16398946940898895, 'eval_runtime': 13.3447, 'eval_samples_per_second': 16.486, 'eval_steps_per_second': 16.486, 'epoch': 21.0}\n",
      "{'loss': 0.1926, 'grad_norm': 2.6218605041503906, 'learning_rate': 3.1499202551834136e-06, 'epoch': 21.02}\n",
      "{'loss': 0.1574, 'grad_norm': 1.654147982597351, 'learning_rate': 2.950558213716109e-06, 'epoch': 21.59}\n"
     ]
    },
    {
     "data": {
      "application/vnd.jupyter.widget-view+json": {
       "model_id": "6e1a0c45a2834d61826796264d1f2b4a",
       "version_major": 2,
       "version_minor": 0
      },
      "text/plain": [
       "  0%|          | 0/220 [00:00<?, ?it/s]"
      ]
     },
     "metadata": {},
     "output_type": "display_data"
    },
    {
     "name": "stdout",
     "output_type": "stream",
     "text": [
      "{'eval_loss': 0.1627579778432846, 'eval_runtime': 13.0556, 'eval_samples_per_second': 16.851, 'eval_steps_per_second': 16.851, 'epoch': 22.0}\n",
      "{'loss': 0.1751, 'grad_norm': 3.3352365493774414, 'learning_rate': 2.751196172248804e-06, 'epoch': 22.16}\n",
      "{'loss': 0.1591, 'grad_norm': 0.31512993574142456, 'learning_rate': 2.551834130781499e-06, 'epoch': 22.73}\n"
     ]
    },
    {
     "data": {
      "application/vnd.jupyter.widget-view+json": {
       "model_id": "d9aa8a28efda48338cd18ae032f8cc8d",
       "version_major": 2,
       "version_minor": 0
      },
      "text/plain": [
       "  0%|          | 0/220 [00:00<?, ?it/s]"
      ]
     },
     "metadata": {},
     "output_type": "display_data"
    },
    {
     "name": "stdout",
     "output_type": "stream",
     "text": [
      "{'eval_loss': 0.16179297864437103, 'eval_runtime': 13.3114, 'eval_samples_per_second': 16.527, 'eval_steps_per_second': 16.527, 'epoch': 23.0}\n",
      "{'loss': 0.1577, 'grad_norm': 3.368891477584839, 'learning_rate': 2.352472089314195e-06, 'epoch': 23.3}\n",
      "{'loss': 0.1706, 'grad_norm': 2.6497673988342285, 'learning_rate': 2.15311004784689e-06, 'epoch': 23.86}\n"
     ]
    },
    {
     "data": {
      "application/vnd.jupyter.widget-view+json": {
       "model_id": "43af04e93ee4431da7e047eac64122cb",
       "version_major": 2,
       "version_minor": 0
      },
      "text/plain": [
       "  0%|          | 0/220 [00:00<?, ?it/s]"
      ]
     },
     "metadata": {},
     "output_type": "display_data"
    },
    {
     "name": "stdout",
     "output_type": "stream",
     "text": [
      "{'eval_loss': 0.16231253743171692, 'eval_runtime': 13.2518, 'eval_samples_per_second': 16.602, 'eval_steps_per_second': 16.602, 'epoch': 24.0}\n",
      "{'loss': 0.1528, 'grad_norm': 7.0244059562683105, 'learning_rate': 1.9537480063795854e-06, 'epoch': 24.43}\n",
      "{'loss': 0.1653, 'grad_norm': 6.193229675292969, 'learning_rate': 1.7543859649122807e-06, 'epoch': 25.0}\n"
     ]
    },
    {
     "data": {
      "application/vnd.jupyter.widget-view+json": {
       "model_id": "88ffac396fe94305a9d9a1cf13b4710c",
       "version_major": 2,
       "version_minor": 0
      },
      "text/plain": [
       "  0%|          | 0/220 [00:00<?, ?it/s]"
      ]
     },
     "metadata": {},
     "output_type": "display_data"
    },
    {
     "name": "stdout",
     "output_type": "stream",
     "text": [
      "{'eval_loss': 0.16116201877593994, 'eval_runtime': 13.5936, 'eval_samples_per_second': 16.184, 'eval_steps_per_second': 16.184, 'epoch': 25.0}\n",
      "{'loss': 0.1506, 'grad_norm': 3.2026526927948, 'learning_rate': 1.5550239234449763e-06, 'epoch': 25.57}\n"
     ]
    },
    {
     "data": {
      "application/vnd.jupyter.widget-view+json": {
       "model_id": "f95a15753ab74f4cb250ce3aa58d65d2",
       "version_major": 2,
       "version_minor": 0
      },
      "text/plain": [
       "  0%|          | 0/220 [00:00<?, ?it/s]"
      ]
     },
     "metadata": {},
     "output_type": "display_data"
    },
    {
     "name": "stdout",
     "output_type": "stream",
     "text": [
      "{'eval_loss': 0.16073353588581085, 'eval_runtime': 13.1993, 'eval_samples_per_second': 16.668, 'eval_steps_per_second': 16.668, 'epoch': 26.0}\n",
      "{'loss': 0.1691, 'grad_norm': 6.924412727355957, 'learning_rate': 1.3556618819776716e-06, 'epoch': 26.14}\n",
      "{'loss': 0.152, 'grad_norm': 0.37756088376045227, 'learning_rate': 1.1562998405103669e-06, 'epoch': 26.7}\n"
     ]
    },
    {
     "data": {
      "application/vnd.jupyter.widget-view+json": {
       "model_id": "f30a9de9f9b34da7955983139287f7cf",
       "version_major": 2,
       "version_minor": 0
      },
      "text/plain": [
       "  0%|          | 0/220 [00:00<?, ?it/s]"
      ]
     },
     "metadata": {},
     "output_type": "display_data"
    },
    {
     "name": "stdout",
     "output_type": "stream",
     "text": [
      "{'eval_loss': 0.1607867181301117, 'eval_runtime': 13.1267, 'eval_samples_per_second': 16.76, 'eval_steps_per_second': 16.76, 'epoch': 27.0}\n",
      "{'loss': 0.1549, 'grad_norm': 2.515018939971924, 'learning_rate': 9.569377990430622e-07, 'epoch': 27.27}\n",
      "{'loss': 0.1646, 'grad_norm': 0.3122849464416504, 'learning_rate': 7.575757575757576e-07, 'epoch': 27.84}\n"
     ]
    },
    {
     "data": {
      "application/vnd.jupyter.widget-view+json": {
       "model_id": "773581409fc24090808b8fd285ce1a83",
       "version_major": 2,
       "version_minor": 0
      },
      "text/plain": [
       "  0%|          | 0/220 [00:00<?, ?it/s]"
      ]
     },
     "metadata": {},
     "output_type": "display_data"
    },
    {
     "name": "stdout",
     "output_type": "stream",
     "text": [
      "{'eval_loss': 0.16075369715690613, 'eval_runtime': 13.2948, 'eval_samples_per_second': 16.548, 'eval_steps_per_second': 16.548, 'epoch': 28.0}\n",
      "{'loss': 0.1636, 'grad_norm': 1.7210954427719116, 'learning_rate': 5.582137161084529e-07, 'epoch': 28.41}\n",
      "{'loss': 0.144, 'grad_norm': 0.021043775603175163, 'learning_rate': 3.5885167464114835e-07, 'epoch': 28.98}\n"
     ]
    },
    {
     "data": {
      "application/vnd.jupyter.widget-view+json": {
       "model_id": "92f98615fca94dd4b33fd6eb3df53824",
       "version_major": 2,
       "version_minor": 0
      },
      "text/plain": [
       "  0%|          | 0/220 [00:00<?, ?it/s]"
      ]
     },
     "metadata": {},
     "output_type": "display_data"
    },
    {
     "name": "stdout",
     "output_type": "stream",
     "text": [
      "{'eval_loss': 0.1609935760498047, 'eval_runtime': 12.9268, 'eval_samples_per_second': 17.019, 'eval_steps_per_second': 17.019, 'epoch': 29.0}\n",
      "{'loss': 0.1298, 'grad_norm': 1.9433163404464722, 'learning_rate': 1.594896331738437e-07, 'epoch': 29.55}\n"
     ]
    },
    {
     "data": {
      "application/vnd.jupyter.widget-view+json": {
       "model_id": "c009b13feeeb487386b32f107166c513",
       "version_major": 2,
       "version_minor": 0
      },
      "text/plain": [
       "  0%|          | 0/220 [00:00<?, ?it/s]"
      ]
     },
     "metadata": {},
     "output_type": "display_data"
    },
    {
     "name": "stdout",
     "output_type": "stream",
     "text": [
      "{'eval_loss': 0.16096235811710358, 'eval_runtime': 12.7176, 'eval_samples_per_second': 17.299, 'eval_steps_per_second': 17.299, 'epoch': 30.0}\n"
     ]
    },
    {
     "name": "stderr",
     "output_type": "stream",
     "text": [
      "There were missing keys in the checkpoint model loaded: ['encoder.embed_tokens.weight', 'decoder.embed_tokens.weight', 'lm_head.weight'].\n"
     ]
    },
    {
     "name": "stdout",
     "output_type": "stream",
     "text": [
      "{'train_runtime': 14057.086, 'train_samples_per_second': 1.878, 'train_steps_per_second': 1.878, 'train_loss': 0.4754251919370709, 'epoch': 30.0}\n"
     ]
    },
    {
     "name": "stderr",
     "output_type": "stream",
     "text": [
      "No artists with labels found to put in legend.  Note that artists whose label start with an underscore are ignored when legend() is called with no argument.\n"
     ]
    },
    {
     "data": {
      "text/plain": [
       "('FlexiModel\\\\tokenizer_config.json',\n",
       " 'FlexiModel\\\\special_tokens_map.json',\n",
       " 'FlexiModel\\\\spiece.model',\n",
       " 'FlexiModel\\\\added_tokens.json')"
      ]
     },
     "execution_count": 7,
     "metadata": {},
     "output_type": "execute_result"
    }
   ],
   "source": [
    "\n",
    "\n",
    "# Train the model\n",
    "trainer.train()\n",
    "\n",
    "# Plot metrics\n",
    "plot_metrics(metrics_callback)\n",
    "\n",
    "# Save the model\n",
    "save_directory = \"FlexiModel\"\n",
    "model.save_pretrained(save_directory)\n",
    "tokenizer.save_pretrained(save_directory)"
   ]
  }
 ],
 "metadata": {
  "kernelspec": {
   "display_name": "Python 3",
   "language": "python",
   "name": "python3"
  },
  "language_info": {
   "codemirror_mode": {
    "name": "ipython",
    "version": 3
   },
   "file_extension": ".py",
   "mimetype": "text/x-python",
   "name": "python",
   "nbconvert_exporter": "python",
   "pygments_lexer": "ipython3",
   "version": "3.12.1"
  }
 },
 "nbformat": 4,
 "nbformat_minor": 2
}
