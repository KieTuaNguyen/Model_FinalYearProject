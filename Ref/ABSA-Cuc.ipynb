{
  "cells": [
    {
      "cell_type": "markdown",
      "metadata": {
        "id": "5TW1FqRFyUOz"
      },
      "source": [
        "# ASPECT  BASED SENTIMENT ANALYSIS (ABSA)\n",
        "\n",
        "**Context**: Sentiment analysis is increasingly viewed as a vital task both from an academic and a commercial standpoint. The majority of current approaches, however, attempt to detect the overall polarity of a sentence, paragraph, or text span, regardless of the entities mentioned (e.g., laptops, restaurants) and their aspects (e.g., battery, screen; food, service). By contrast, this task is concerned with aspect based sentiment analysis (ABSA), where the goal is to identify the aspects of given target entities and the sentiment expressed towards each aspect. Datasets consisting of customer reviews with human-authored annotations identifying the mentioned aspects of the target entities and the sentiment polarity of each aspect will be provided."
      ]
    },
    {
      "cell_type": "code",
      "execution_count": null,
      "metadata": {
        "id": "zjPqC7W-yUO0",
        "outputId": "082bbc23-f534-4e1b-bd0a-ae2236942e69"
      },
      "outputs": [
        {
          "name": "stderr",
          "output_type": "stream",
          "text": [
            "[nltk_data] Downloading package punkt to\n",
            "[nltk_data]     C:\\Users\\kietd\\AppData\\Roaming\\nltk_data...\n",
            "[nltk_data]   Package punkt is already up-to-date!\n",
            "[nltk_data] Downloading package averaged_perceptron_tagger to\n",
            "[nltk_data]     C:\\Users\\kietd\\AppData\\Roaming\\nltk_data...\n",
            "[nltk_data]   Package averaged_perceptron_tagger is already up-to-\n",
            "[nltk_data]       date!\n",
            "[nltk_data] Downloading package maxent_ne_chunker to\n",
            "[nltk_data]     C:\\Users\\kietd\\AppData\\Roaming\\nltk_data...\n",
            "[nltk_data]   Package maxent_ne_chunker is already up-to-date!\n",
            "[nltk_data] Downloading package words to\n",
            "[nltk_data]     C:\\Users\\kietd\\AppData\\Roaming\\nltk_data...\n",
            "[nltk_data]   Package words is already up-to-date!\n"
          ]
        },
        {
          "data": {
            "text/plain": [
              "True"
            ]
          },
          "execution_count": 144,
          "metadata": {},
          "output_type": "execute_result"
        }
      ],
      "source": [
        "# Import libraries\n",
        "import xml.etree.ElementTree as ET\n",
        "import pandas as pd\n",
        "import nltk\n",
        "from nltk.tokenize import word_tokenize\n",
        "from nltk.tag import pos_tag\n",
        "from nltk.chunk import RegexpParser\n",
        "from textblob import TextBlob\n",
        "from sklearn.feature_extraction.text import CountVectorizer\n",
        "from sklearn.naive_bayes import MultinomialNB\n",
        "from sklearn.model_selection import train_test_split\n",
        "\n",
        "\n",
        "\n",
        "nltk.download('punkt')\n",
        "nltk.download('averaged_perceptron_tagger')\n",
        "nltk.download('maxent_ne_chunker')\n",
        "nltk.download('words')"
      ]
    },
    {
      "cell_type": "markdown",
      "metadata": {
        "id": "lQigtX1nyUO2"
      },
      "source": [
        "## RECONSTRUCTION\n",
        "\n",
        "In this notebook, we will reconstruct from the processed database to orignal format."
      ]
    },
    {
      "cell_type": "code",
      "execution_count": null,
      "metadata": {
        "id": "JtQQ0l1eyUO2",
        "outputId": "7435f0d4-2078-4378-9bb4-6408b1f152e0"
      },
      "outputs": [
        {
          "data": {
            "text/html": [
              "<div>\n",
              "<style scoped>\n",
              "    .dataframe tbody tr th:only-of-type {\n",
              "        vertical-align: middle;\n",
              "    }\n",
              "\n",
              "    .dataframe tbody tr th {\n",
              "        vertical-align: top;\n",
              "    }\n",
              "\n",
              "    .dataframe thead th {\n",
              "        text-align: right;\n",
              "    }\n",
              "</style>\n",
              "<table border=\"1\" class=\"dataframe\">\n",
              "  <thead>\n",
              "    <tr style=\"text-align: right;\">\n",
              "      <th></th>\n",
              "      <th>MasterID</th>\n",
              "      <th>ID</th>\n",
              "      <th>Text</th>\n",
              "    </tr>\n",
              "  </thead>\n",
              "  <tbody>\n",
              "    <tr>\n",
              "      <th>0</th>\n",
              "      <td>32897564#894393</td>\n",
              "      <td>2</td>\n",
              "      <td>The bread is top notch as well.</td>\n",
              "    </tr>\n",
              "    <tr>\n",
              "      <th>1</th>\n",
              "      <td>33070600#670328</td>\n",
              "      <td>0</td>\n",
              "      <td>I have to say they have one of the fastest del...</td>\n",
              "    </tr>\n",
              "    <tr>\n",
              "      <th>2</th>\n",
              "      <td>33070600#670328</td>\n",
              "      <td>2</td>\n",
              "      <td>Food is always fresh and hot- ready to eat!</td>\n",
              "    </tr>\n",
              "    <tr>\n",
              "      <th>3</th>\n",
              "      <td>36244464#949326</td>\n",
              "      <td>5</td>\n",
              "      <td>Did I mention that the coffee is OUTSTANDING?</td>\n",
              "    </tr>\n",
              "    <tr>\n",
              "      <th>4</th>\n",
              "      <td>32894246#870052</td>\n",
              "      <td>0</td>\n",
              "      <td>Certainly not the best sushi in New York, howe...</td>\n",
              "    </tr>\n",
              "    <tr>\n",
              "      <th>5</th>\n",
              "      <td>32894246#870052</td>\n",
              "      <td>1</td>\n",
              "      <td>I trust the people at Go Sushi, it never disap...</td>\n",
              "    </tr>\n",
              "    <tr>\n",
              "      <th>6</th>\n",
              "      <td>32894246#870052</td>\n",
              "      <td>2</td>\n",
              "      <td>Straight-forward, no surprises, very decent Ja...</td>\n",
              "    </tr>\n",
              "    <tr>\n",
              "      <th>7</th>\n",
              "      <td>35390182#756337</td>\n",
              "      <td>4</td>\n",
              "      <td>BEST spicy tuna roll, great asian salad.</td>\n",
              "    </tr>\n",
              "    <tr>\n",
              "      <th>8</th>\n",
              "      <td>35390182#756337</td>\n",
              "      <td>5</td>\n",
              "      <td>Try the rose roll (not on menu).</td>\n",
              "    </tr>\n",
              "    <tr>\n",
              "      <th>9</th>\n",
              "      <td>11447227#436718</td>\n",
              "      <td>3</td>\n",
              "      <td>I love the drinks, esp lychee martini, and the...</td>\n",
              "    </tr>\n",
              "    <tr>\n",
              "      <th>10</th>\n",
              "      <td>33071731#1007204</td>\n",
              "      <td>3</td>\n",
              "      <td>In fact, this was not a Nicoise salad and was ...</td>\n",
              "    </tr>\n",
              "  </tbody>\n",
              "</table>\n",
              "</div>"
            ],
            "text/plain": [
              "            MasterID ID                                               Text\n",
              "0    32897564#894393  2                    The bread is top notch as well.\n",
              "1    33070600#670328  0  I have to say they have one of the fastest del...\n",
              "2    33070600#670328  2        Food is always fresh and hot- ready to eat!\n",
              "3    36244464#949326  5      Did I mention that the coffee is OUTSTANDING?\n",
              "4    32894246#870052  0  Certainly not the best sushi in New York, howe...\n",
              "5    32894246#870052  1  I trust the people at Go Sushi, it never disap...\n",
              "6    32894246#870052  2  Straight-forward, no surprises, very decent Ja...\n",
              "7    35390182#756337  4           BEST spicy tuna roll, great asian salad.\n",
              "8    35390182#756337  5                   Try the rose roll (not on menu).\n",
              "9    11447227#436718  3  I love the drinks, esp lychee martini, and the...\n",
              "10  33071731#1007204  3  In fact, this was not a Nicoise salad and was ..."
            ]
          },
          "execution_count": 145,
          "metadata": {},
          "output_type": "execute_result"
        }
      ],
      "source": [
        "\n",
        "tree = ET.parse('data/Restaurants_Test_Data_PhaseA.xml')\n",
        "root = tree.getroot()\n",
        "\n",
        "data = []\n",
        "\n",
        "# Iterate through the XML and extract information\n",
        "for sentence in root.findall('.//sentence'):\n",
        "    sentence_id = sentence.get('id')\n",
        "    text = sentence.find('text').text\n",
        "\n",
        "    master_id, id_num = sentence_id.rsplit('#', 1)\n",
        "\n",
        "    data.append({\n",
        "        'MasterID': master_id,\n",
        "        'ID': id_num,\n",
        "        'Text': text\n",
        "    })\n",
        "\n",
        "df = pd.DataFrame(data)\n",
        "df.head(11)"
      ]
    },
    {
      "cell_type": "code",
      "execution_count": null,
      "metadata": {
        "id": "4aIrNEOYyUO2",
        "outputId": "3d91afb4-fc88-4425-e1e4-722321ca1184"
      },
      "outputs": [
        {
          "data": {
            "text/html": [
              "<div>\n",
              "<style scoped>\n",
              "    .dataframe tbody tr th:only-of-type {\n",
              "        vertical-align: middle;\n",
              "    }\n",
              "\n",
              "    .dataframe tbody tr th {\n",
              "        vertical-align: top;\n",
              "    }\n",
              "\n",
              "    .dataframe thead th {\n",
              "        text-align: right;\n",
              "    }\n",
              "</style>\n",
              "<table border=\"1\" class=\"dataframe\">\n",
              "  <thead>\n",
              "    <tr style=\"text-align: right;\">\n",
              "      <th></th>\n",
              "      <th>MasterID</th>\n",
              "      <th>ID</th>\n",
              "      <th>Text</th>\n",
              "    </tr>\n",
              "  </thead>\n",
              "  <tbody>\n",
              "    <tr>\n",
              "      <th>count</th>\n",
              "      <td>800</td>\n",
              "      <td>800</td>\n",
              "      <td>800</td>\n",
              "    </tr>\n",
              "    <tr>\n",
              "      <th>unique</th>\n",
              "      <td>279</td>\n",
              "      <td>15</td>\n",
              "      <td>800</td>\n",
              "    </tr>\n",
              "    <tr>\n",
              "      <th>top</th>\n",
              "      <td>32894966#1727613</td>\n",
              "      <td>0</td>\n",
              "      <td>The bread is top notch as well.</td>\n",
              "    </tr>\n",
              "    <tr>\n",
              "      <th>freq</th>\n",
              "      <td>9</td>\n",
              "      <td>177</td>\n",
              "      <td>1</td>\n",
              "    </tr>\n",
              "  </tbody>\n",
              "</table>\n",
              "</div>"
            ],
            "text/plain": [
              "                MasterID   ID                             Text\n",
              "count                800  800                              800\n",
              "unique               279   15                              800\n",
              "top     32894966#1727613    0  The bread is top notch as well.\n",
              "freq                   9  177                                1"
            ]
          },
          "execution_count": 146,
          "metadata": {},
          "output_type": "execute_result"
        }
      ],
      "source": [
        "df.describe()"
      ]
    },
    {
      "cell_type": "code",
      "execution_count": null,
      "metadata": {
        "id": "7plzf8ynyUO3",
        "outputId": "f0d725ec-4954-4cfe-c375-46a457d50e2b"
      },
      "outputs": [
        {
          "data": {
            "text/html": [
              "<div>\n",
              "<style scoped>\n",
              "    .dataframe tbody tr th:only-of-type {\n",
              "        vertical-align: middle;\n",
              "    }\n",
              "\n",
              "    .dataframe tbody tr th {\n",
              "        vertical-align: top;\n",
              "    }\n",
              "\n",
              "    .dataframe thead th {\n",
              "        text-align: right;\n",
              "    }\n",
              "</style>\n",
              "<table border=\"1\" class=\"dataframe\">\n",
              "  <thead>\n",
              "    <tr style=\"text-align: right;\">\n",
              "      <th></th>\n",
              "      <th>MasterID</th>\n",
              "      <th>ID</th>\n",
              "      <th>Text</th>\n",
              "    </tr>\n",
              "  </thead>\n",
              "  <tbody>\n",
              "    <tr>\n",
              "      <th>378</th>\n",
              "      <td>11313290#1139539</td>\n",
              "      <td>0</td>\n",
              "      <td>Even after a few bad evenings at Bardolino, I ...</td>\n",
              "    </tr>\n",
              "    <tr>\n",
              "      <th>779</th>\n",
              "      <td>11313290#1139539</td>\n",
              "      <td>1</td>\n",
              "      <td>The new menu has a few creative items,they wer...</td>\n",
              "    </tr>\n",
              "  </tbody>\n",
              "</table>\n",
              "</div>"
            ],
            "text/plain": [
              "             MasterID ID                                               Text\n",
              "378  11313290#1139539  0  Even after a few bad evenings at Bardolino, I ...\n",
              "779  11313290#1139539  1  The new menu has a few creative items,they wer..."
            ]
          },
          "execution_count": 147,
          "metadata": {},
          "output_type": "execute_result"
        }
      ],
      "source": [
        "df[df['MasterID'] == '11313290#1139539']"
      ]
    },
    {
      "cell_type": "markdown",
      "metadata": {
        "id": "-5Cum36yyUO3"
      },
      "source": [
        "After testing by filtering the data, we can see with the same MasterID, we have multiple sentences representing as different IDs. We will reconstruct the data to original format.\n",
        "\n",
        "> Add blockquote\n",
        "\n"
      ]
    },
    {
      "cell_type": "code",
      "execution_count": null,
      "metadata": {
        "id": "82XsLjKzyUO3",
        "outputId": "b257059a-78c8-430b-ba1f-732c72649e0a"
      },
      "outputs": [
        {
          "data": {
            "text/html": [
              "<div>\n",
              "<style scoped>\n",
              "    .dataframe tbody tr th:only-of-type {\n",
              "        vertical-align: middle;\n",
              "    }\n",
              "\n",
              "    .dataframe tbody tr th {\n",
              "        vertical-align: top;\n",
              "    }\n",
              "\n",
              "    .dataframe thead th {\n",
              "        text-align: right;\n",
              "    }\n",
              "</style>\n",
              "<table border=\"1\" class=\"dataframe\">\n",
              "  <thead>\n",
              "    <tr style=\"text-align: right;\">\n",
              "      <th></th>\n",
              "      <th>MasterID</th>\n",
              "      <th>FullText</th>\n",
              "    </tr>\n",
              "  </thead>\n",
              "  <tbody>\n",
              "    <tr>\n",
              "      <th>0</th>\n",
              "      <td>11302355#533813</td>\n",
              "      <td>Great food, great waitstaff, great atmosphere,...</td>\n",
              "    </tr>\n",
              "    <tr>\n",
              "      <th>1</th>\n",
              "      <td>11302356#1455624</td>\n",
              "      <td>I've been coming here on and off for the past ...</td>\n",
              "    </tr>\n",
              "    <tr>\n",
              "      <th>2</th>\n",
              "      <td>11302357#835238</td>\n",
              "      <td>What can you say about a place where the waitr...</td>\n",
              "    </tr>\n",
              "    <tr>\n",
              "      <th>3</th>\n",
              "      <td>11313290#1139539</td>\n",
              "      <td>Even after a few bad evenings at Bardolino, I ...</td>\n",
              "    </tr>\n",
              "    <tr>\n",
              "      <th>4</th>\n",
              "      <td>11313316#1234433</td>\n",
              "      <td>This is definitely one of the places that I ha...</td>\n",
              "    </tr>\n",
              "    <tr>\n",
              "      <th>5</th>\n",
              "      <td>11313359#650269</td>\n",
              "      <td>At night the atmoshere changes turning into th...</td>\n",
              "    </tr>\n",
              "    <tr>\n",
              "      <th>6</th>\n",
              "      <td>11313392#560011</td>\n",
              "      <td>Pizzas were excellent in addition to appetizer...</td>\n",
              "    </tr>\n",
              "    <tr>\n",
              "      <th>7</th>\n",
              "      <td>11313431#524365</td>\n",
              "      <td>My fiance and I recently wanted to see the cit...</td>\n",
              "    </tr>\n",
              "    <tr>\n",
              "      <th>8</th>\n",
              "      <td>11313439#692431</td>\n",
              "      <td>Anytime and everytime I find myself in the nei...</td>\n",
              "    </tr>\n",
              "    <tr>\n",
              "      <th>9</th>\n",
              "      <td>11349445#757796</td>\n",
              "      <td>If you're in the 'hood, definitely stop in. th...</td>\n",
              "    </tr>\n",
              "    <tr>\n",
              "      <th>10</th>\n",
              "      <td>11349536#778388</td>\n",
              "      <td>Had dinner here on a Friday and the food was g...</td>\n",
              "    </tr>\n",
              "  </tbody>\n",
              "</table>\n",
              "</div>"
            ],
            "text/plain": [
              "            MasterID                                           FullText\n",
              "0    11302355#533813  Great food, great waitstaff, great atmosphere,...\n",
              "1   11302356#1455624  I've been coming here on and off for the past ...\n",
              "2    11302357#835238  What can you say about a place where the waitr...\n",
              "3   11313290#1139539  Even after a few bad evenings at Bardolino, I ...\n",
              "4   11313316#1234433  This is definitely one of the places that I ha...\n",
              "5    11313359#650269  At night the atmoshere changes turning into th...\n",
              "6    11313392#560011  Pizzas were excellent in addition to appetizer...\n",
              "7    11313431#524365  My fiance and I recently wanted to see the cit...\n",
              "8    11313439#692431  Anytime and everytime I find myself in the nei...\n",
              "9    11349445#757796  If you're in the 'hood, definitely stop in. th...\n",
              "10   11349536#778388  Had dinner here on a Friday and the food was g..."
            ]
          },
          "execution_count": 148,
          "metadata": {},
          "output_type": "execute_result"
        }
      ],
      "source": [
        "df['ID'] = df['ID'].astype(int)\n",
        "# Group by MasterID, sort by ID, and concatenate Text\n",
        "grouped_df = df.sort_values('ID').groupby('MasterID').agg({\n",
        "    'Text': ' '.join\n",
        "}).reset_index()\n",
        "\n",
        "grouped_df.columns = ['MasterID', 'FullText']\n",
        "grouped_df.head(11)"
      ]
    },
    {
      "cell_type": "code",
      "execution_count": null,
      "metadata": {
        "id": "QIpx5LZoyUO3",
        "outputId": "95903169-5d68-45e6-e188-e45c5a5c8189"
      },
      "outputs": [
        {
          "data": {
            "text/html": [
              "<div>\n",
              "<style scoped>\n",
              "    .dataframe tbody tr th:only-of-type {\n",
              "        vertical-align: middle;\n",
              "    }\n",
              "\n",
              "    .dataframe tbody tr th {\n",
              "        vertical-align: top;\n",
              "    }\n",
              "\n",
              "    .dataframe thead th {\n",
              "        text-align: right;\n",
              "    }\n",
              "</style>\n",
              "<table border=\"1\" class=\"dataframe\">\n",
              "  <thead>\n",
              "    <tr style=\"text-align: right;\">\n",
              "      <th></th>\n",
              "      <th>MasterID</th>\n",
              "      <th>FullText</th>\n",
              "    </tr>\n",
              "  </thead>\n",
              "  <tbody>\n",
              "    <tr>\n",
              "      <th>3</th>\n",
              "      <td>11313290#1139539</td>\n",
              "      <td>Even after a few bad evenings at Bardolino, I ...</td>\n",
              "    </tr>\n",
              "  </tbody>\n",
              "</table>\n",
              "</div>"
            ],
            "text/plain": [
              "           MasterID                                           FullText\n",
              "3  11313290#1139539  Even after a few bad evenings at Bardolino, I ..."
            ]
          },
          "execution_count": 149,
          "metadata": {},
          "output_type": "execute_result"
        }
      ],
      "source": [
        "grouped_df[grouped_df['MasterID'] == '11313290#1139539']"
      ]
    },
    {
      "cell_type": "markdown",
      "metadata": {
        "id": "IYNqGF17yUO4"
      },
      "source": [
        "# SENTENCE TOKENIZATION\n",
        "\n",
        "Currently we have the data in the format of MasterID, FullText\n",
        "\n",
        "| MasterID | FullText |\n",
        "|----------|----------|\n",
        "| 1        | This is a sentence. This is another sentence. This is the third sentence. |\n",
        "\n",
        "We will tokenize the sentences and reconstruct the data to the format of MasterID, ID, Text\n",
        "\n",
        "| MasterID | ID | Text |\n",
        "|----------|----|------|\n",
        "| 1        | 0  | This is a sentence. |\n",
        "| 1        | 1  | This is another sentence. |\n",
        "| 1        | 2  | This is the third sentence. |"
      ]
    },
    {
      "cell_type": "code",
      "execution_count": null,
      "metadata": {
        "id": "IZJnckVRyUO4",
        "outputId": "e7871fd5-caa7-4b1c-fbb2-c3b08131c9a4"
      },
      "outputs": [
        {
          "data": {
            "text/plain": [
              "Index(['MasterID', 'FullText'], dtype='object')"
            ]
          },
          "execution_count": 150,
          "metadata": {},
          "output_type": "execute_result"
        }
      ],
      "source": [
        "grouped_df.columns"
      ]
    },
    {
      "cell_type": "code",
      "execution_count": null,
      "metadata": {
        "id": "qmrG7qp7yUO4",
        "outputId": "aec3d5cc-6f27-424c-94a8-f7493377fd68"
      },
      "outputs": [
        {
          "data": {
            "text/html": [
              "<div>\n",
              "<style scoped>\n",
              "    .dataframe tbody tr th:only-of-type {\n",
              "        vertical-align: middle;\n",
              "    }\n",
              "\n",
              "    .dataframe tbody tr th {\n",
              "        vertical-align: top;\n",
              "    }\n",
              "\n",
              "    .dataframe thead th {\n",
              "        text-align: right;\n",
              "    }\n",
              "</style>\n",
              "<table border=\"1\" class=\"dataframe\">\n",
              "  <thead>\n",
              "    <tr style=\"text-align: right;\">\n",
              "      <th></th>\n",
              "      <th>MasterID</th>\n",
              "      <th>ID</th>\n",
              "      <th>Text</th>\n",
              "    </tr>\n",
              "  </thead>\n",
              "  <tbody>\n",
              "    <tr>\n",
              "      <th>0</th>\n",
              "      <td>11302355#533813</td>\n",
              "      <td>0</td>\n",
              "      <td>Great food, great waitstaff, great atmosphere,...</td>\n",
              "    </tr>\n",
              "    <tr>\n",
              "      <th>1</th>\n",
              "      <td>11302356#1455624</td>\n",
              "      <td>0</td>\n",
              "      <td>I've been coming here on and off for the past ...</td>\n",
              "    </tr>\n",
              "    <tr>\n",
              "      <th>2</th>\n",
              "      <td>11302356#1455624</td>\n",
              "      <td>1</td>\n",
              "      <td>The food is top notch, the service is attentiv...</td>\n",
              "    </tr>\n",
              "    <tr>\n",
              "      <th>3</th>\n",
              "      <td>11302356#1455624</td>\n",
              "      <td>2</td>\n",
              "      <td>If you' re in New York, you do not want to mis...</td>\n",
              "    </tr>\n",
              "    <tr>\n",
              "      <th>4</th>\n",
              "      <td>11302357#835238</td>\n",
              "      <td>0</td>\n",
              "      <td>What can you say about a place where the waitr...</td>\n",
              "    </tr>\n",
              "    <tr>\n",
              "      <th>5</th>\n",
              "      <td>11302357#835238</td>\n",
              "      <td>1</td>\n",
              "      <td>The service was pretty poor all around, the fo...</td>\n",
              "    </tr>\n",
              "    <tr>\n",
              "      <th>6</th>\n",
              "      <td>11302357#835238</td>\n",
              "      <td>2</td>\n",
              "      <td>The ambiance was pretty cool, but not worth th...</td>\n",
              "    </tr>\n",
              "    <tr>\n",
              "      <th>7</th>\n",
              "      <td>11302357#835238</td>\n",
              "      <td>3</td>\n",
              "      <td>Probably my worst dining experience in new yor...</td>\n",
              "    </tr>\n",
              "    <tr>\n",
              "      <th>8</th>\n",
              "      <td>11313290#1139539</td>\n",
              "      <td>0</td>\n",
              "      <td>Even after a few bad evenings at Bardolino, I ...</td>\n",
              "    </tr>\n",
              "    <tr>\n",
              "      <th>9</th>\n",
              "      <td>11313290#1139539</td>\n",
              "      <td>1</td>\n",
              "      <td>The new menu has a few creative items,they wer...</td>\n",
              "    </tr>\n",
              "    <tr>\n",
              "      <th>10</th>\n",
              "      <td>11313316#1234433</td>\n",
              "      <td>0</td>\n",
              "      <td>This is definitely one of the places that I ha...</td>\n",
              "    </tr>\n",
              "  </tbody>\n",
              "</table>\n",
              "</div>"
            ],
            "text/plain": [
              "            MasterID  ID                                               Text\n",
              "0    11302355#533813   0  Great food, great waitstaff, great atmosphere,...\n",
              "1   11302356#1455624   0  I've been coming here on and off for the past ...\n",
              "2   11302356#1455624   1  The food is top notch, the service is attentiv...\n",
              "3   11302356#1455624   2  If you' re in New York, you do not want to mis...\n",
              "4    11302357#835238   0  What can you say about a place where the waitr...\n",
              "5    11302357#835238   1  The service was pretty poor all around, the fo...\n",
              "6    11302357#835238   2  The ambiance was pretty cool, but not worth th...\n",
              "7    11302357#835238   3  Probably my worst dining experience in new yor...\n",
              "8   11313290#1139539   0  Even after a few bad evenings at Bardolino, I ...\n",
              "9   11313290#1139539   1  The new menu has a few creative items,they wer...\n",
              "10  11313316#1234433   0  This is definitely one of the places that I ha..."
            ]
          },
          "execution_count": 151,
          "metadata": {},
          "output_type": "execute_result"
        }
      ],
      "source": [
        "# Tokenize sentences and create new rows\n",
        "df_tokenized = grouped_df.apply(lambda row: pd.Series({\n",
        "    'MasterID': row['MasterID'],\n",
        "    'Text': nltk.sent_tokenize(row['FullText'])\n",
        "}), axis=1)\n",
        "\n",
        "# Explode the 'Text' column to create separate rows for each sentence\n",
        "df_exploded = df_tokenized.explode('Text').reset_index(drop=True)\n",
        "\n",
        "# Add an 'ID' column to number the sentences within each MasterID\n",
        "df_exploded['ID'] = df_exploded.groupby('MasterID').cumcount()\n",
        "\n",
        "# Reorder columns\n",
        "df_final = df_exploded[['MasterID', 'ID', 'Text']]\n",
        "\n",
        "df_final.head(11)"
      ]
    },
    {
      "cell_type": "markdown",
      "metadata": {
        "id": "jwzn6MIbyUO4"
      },
      "source": [
        "## Task 1: Aspect term extraction\n",
        "\n",
        "Given a set of sentences with pre-identified entities (e.g., restaurants), identify the aspect terms present in the sentence and return a list containing all the distinct aspect terms. An aspect term names a particular aspect of the target entity.\n",
        "\n",
        "For example, \"I liked the service and the staff, but not the food”, “The food was nothing much, but I loved the staff”. Multi-word aspect terms (e.g., “hard disk”) should be treated as single terms (e.g., in “The hard disk is very noisy” the only aspect term is “hard disk”)."
      ]
    },
    {
      "cell_type": "code",
      "execution_count": null,
      "metadata": {
        "id": "ic1YIVzTyUO5"
      },
      "outputs": [],
      "source": [
        "def extract_aspect_terms(sentence):\n",
        "    words = word_tokenize(sentence)\n",
        "    tagged = pos_tag(words)\n",
        "\n",
        "    # Define a grammar for chunking\n",
        "    grammar = r\"\"\"\n",
        "        NBAR: {<NN.*|JJ>*<NN.*>}  # Nouns and Adjectives, terminated with Nouns\n",
        "        NP: {<NBAR>}\n",
        "        {<NBAR><IN><NBAR>}  # Above, connected with in/of/etc...\n",
        "    \"\"\"\n",
        "    chunk_parser = RegexpParser(grammar)\n",
        "    chunked = chunk_parser.parse(tagged)\n",
        "\n",
        "    aspect_terms = []\n",
        "    for subtree in chunked.subtrees(filter=lambda t: t.label() == 'NP'):\n",
        "        aspect = ' '.join([leave[0].lower() for leave in subtree.leaves()])\n",
        "        aspect_terms.append(aspect)\n",
        "\n",
        "    return list(set(aspect_terms))  # Remove duplicates"
      ]
    },
    {
      "cell_type": "code",
      "execution_count": null,
      "metadata": {
        "id": "V1KRtJx8yUO5",
        "outputId": "2438a942-e17f-4f5b-ec89-3b34a0455110"
      },
      "outputs": [
        {
          "name": "stderr",
          "output_type": "stream",
          "text": [
            "C:\\Users\\kietd\\AppData\\Local\\Temp\\ipykernel_14680\\1081369719.py:1: SettingWithCopyWarning: \n",
            "A value is trying to be set on a copy of a slice from a DataFrame.\n",
            "Try using .loc[row_indexer,col_indexer] = value instead\n",
            "\n",
            "See the caveats in the documentation: https://pandas.pydata.org/pandas-docs/stable/user_guide/indexing.html#returning-a-view-versus-a-copy\n",
            "  df_final['AspectTerms'] = df_final['Text'].apply(extract_aspect_terms)\n"
          ]
        }
      ],
      "source": [
        "df_final['AspectTerms'] = df_final['Text'].apply(extract_aspect_terms)"
      ]
    },
    {
      "cell_type": "markdown",
      "metadata": {
        "id": "BaLM3bYXyUO5"
      },
      "source": [
        "## Task 2: Aspect term polarity\n",
        "\n",
        "For a given set of aspect terms within a sentence, determine whether the polarity of each aspect term is positive, negative, neutral or conflict (i.e., both positive and negative).\n",
        "\n",
        "\n",
        "For example:\n",
        "\n",
        "“I loved their fajitas” → {fajitas: positive}\n",
        "“I hated their fajitas, but their salads were great” → {fajitas: negative, salads: positive}\n",
        "“The fajitas are their first plate” → {fajitas: neutral}\n",
        "“The fajitas were great to taste, but not to see” → {fajitas: conflict}\n"
      ]
    },
    {
      "cell_type": "code",
      "execution_count": null,
      "metadata": {
        "id": "WSli9qpMyUO5"
      },
      "outputs": [],
      "source": [
        "def get_aspect_polarity(sentence, aspect_term):\n",
        "    blob = TextBlob(sentence)\n",
        "    relevant_sentences = [sent for sent in blob.sentences if aspect_term.lower() in sent.lower()]\n",
        "\n",
        "    if not relevant_sentences:\n",
        "        return 'neutral'\n",
        "\n",
        "    ### Is this the polarity for the entire sentence? ###\n",
        "    polarities = [sent.sentiment.polarity for sent in relevant_sentences]\n",
        "    avg_polarity = sum(polarities) / len(polarities)\n",
        "\n",
        "    if avg_polarity > 0.1:\n",
        "        return 'positive'\n",
        "    elif avg_polarity < -0.1:\n",
        "        return 'negative'\n",
        "    else:\n",
        "        return 'neutral'"
      ]
    },
    {
      "cell_type": "code",
      "execution_count": null,
      "metadata": {
        "id": "muIrMHAFyUO6",
        "outputId": "481e5abc-f480-42a3-fdb0-e957446a215a"
      },
      "outputs": [
        {
          "name": "stderr",
          "output_type": "stream",
          "text": [
            "C:\\Users\\kietd\\AppData\\Local\\Temp\\ipykernel_14680\\137576939.py:1: SettingWithCopyWarning: \n",
            "A value is trying to be set on a copy of a slice from a DataFrame.\n",
            "Try using .loc[row_indexer,col_indexer] = value instead\n",
            "\n",
            "See the caveats in the documentation: https://pandas.pydata.org/pandas-docs/stable/user_guide/indexing.html#returning-a-view-versus-a-copy\n",
            "  df_final['AspectPolarities'] = df_final.apply(lambda row:\n"
          ]
        }
      ],
      "source": [
        "### The polarity for each aspect of a sentence seem to be the same across the df_final.csv ###\n",
        "### I suspect that you produce the polarity for each sentence, not polarity for each aspect ###\n",
        "### Issue: in sentences like this : 'Great food but the service was dreadful!', the polarities for 'food' and 'service' are not the same. ###\n",
        "df_final['AspectPolarities'] = df_final.apply(lambda row:\n",
        "    {term: get_aspect_polarity(row['Text'], term) for term in row['AspectTerms']}, axis=1)"
      ]
    },
    {
      "cell_type": "markdown",
      "metadata": {
        "id": "7M1gT2b1yUO6"
      },
      "source": [
        "## Task 3: Aspect category detection\n",
        "\n",
        "Given a predefined set of aspect categories (e.g., price, food), identify the aspect categories discussed in a given sentence. Aspect categories are typically coarser than the aspect terms of Subtask 1, and they do not necessarily occur as terms in the given sentence.\n",
        "\n",
        "For example, given the set of aspect categories {food, service, price, ambience, anecdotes/miscellaneous}:\n",
        "\n",
        "“The restaurant was too expensive”  → {price}\n",
        "“The restaurant was expensive, but the menu was great” → {price, food}"
      ]
    },
    {
      "cell_type": "code",
      "execution_count": null,
      "metadata": {
        "id": "S7CG4XN3yUO6"
      },
      "outputs": [],
      "source": [
        "\n",
        "categories = ['food', 'service', 'price', 'ambience', 'miscellaneous']\n",
        "\n",
        "def train_category_classifier(df):\n",
        "    # Use the 'Text' column for features\n",
        "    X = df['Text']\n",
        "\n",
        "    # For demonstration, we'll use a random category assignment\n",
        "    ### Let's use the labeled categories from the dataset for this training ###\n",
        "    y = [categories[i % len(categories)] for i in range(len(df))]\n",
        "\n",
        "    # Split the data into training and testing sets\n",
        "    X_train, X_test, y_train, y_test = train_test_split(X, y, test_size=0.2, random_state=42)\n",
        "\n",
        "    vectorizer = CountVectorizer()\n",
        "    X_train_vectorized = vectorizer.fit_transform(X_train)\n",
        "\n",
        "    clf = MultinomialNB()\n",
        "    clf.fit(X_train_vectorized, y_train)\n",
        "\n",
        "    return vectorizer, clf\n",
        "\n",
        "def detect_aspect_categories(sentence, vectorizer, clf):\n",
        "    X = vectorizer.transform([sentence])\n",
        "    predicted_category = clf.predict(X)[0]\n",
        "    return [predicted_category]"
      ]
    },
    {
      "cell_type": "code",
      "execution_count": null,
      "metadata": {
        "id": "K7IsEp_PyUO6",
        "outputId": "bdaf3996-24bc-4616-9cd5-b5c7c09db42f"
      },
      "outputs": [
        {
          "name": "stderr",
          "output_type": "stream",
          "text": [
            "C:\\Users\\kietd\\AppData\\Local\\Temp\\ipykernel_14680\\3528891798.py:5: SettingWithCopyWarning: \n",
            "A value is trying to be set on a copy of a slice from a DataFrame.\n",
            "Try using .loc[row_indexer,col_indexer] = value instead\n",
            "\n",
            "See the caveats in the documentation: https://pandas.pydata.org/pandas-docs/stable/user_guide/indexing.html#returning-a-view-versus-a-copy\n",
            "  df_final['AspectCategories'] = df_final['Text'].apply(lambda x: detect_aspect_categories(x, vectorizer, clf))\n"
          ]
        }
      ],
      "source": [
        "# Train the classifier\n",
        "vectorizer, clf = train_category_classifier(df_final)\n",
        "\n",
        "# Use the trained classifier to detect categories\n",
        "df_final['AspectCategories'] = df_final['Text'].apply(lambda x: detect_aspect_categories(x, vectorizer, clf))\n",
        "\n",
        "### For this task, if training is required, you can use the labeled 'category' from the dataset to train, don't use random values ###"
      ]
    },
    {
      "cell_type": "markdown",
      "metadata": {
        "id": "IkN-bGBByUO6"
      },
      "source": [
        "## Task 4: Aspect category polarity\n",
        "\n",
        "Given a set of pre-identified aspect categories (e.g., {food, price}), determine the polarity (positive, negative, neutral or conflict) of each aspect category.\n",
        "\n",
        "For example:\n",
        "\n",
        "“The restaurant was too expensive” → {price: negative}\n",
        "“The restaurant was expensive, but the menu was great” → {price: negative, food: positive}"
      ]
    },
    {
      "cell_type": "code",
      "execution_count": null,
      "metadata": {
        "id": "s2ntTEsqyUO7"
      },
      "outputs": [],
      "source": [
        "def get_aspect_category_polarity(sentence, category):\n",
        "    return get_aspect_polarity(sentence, category)"
      ]
    },
    {
      "cell_type": "code",
      "execution_count": null,
      "metadata": {
        "id": "Cx4yvVopyUO7",
        "outputId": "60062aea-aba2-4971-f63b-43d57579dc9d"
      },
      "outputs": [
        {
          "name": "stderr",
          "output_type": "stream",
          "text": [
            "C:\\Users\\kietd\\AppData\\Local\\Temp\\ipykernel_14680\\858975578.py:1: SettingWithCopyWarning: \n",
            "A value is trying to be set on a copy of a slice from a DataFrame.\n",
            "Try using .loc[row_indexer,col_indexer] = value instead\n",
            "\n",
            "See the caveats in the documentation: https://pandas.pydata.org/pandas-docs/stable/user_guide/indexing.html#returning-a-view-versus-a-copy\n",
            "  df_final['CategoryPolarities'] = df_final.apply(lambda row:\n"
          ]
        }
      ],
      "source": [
        "### Similar to the aspect polarity, if multiple categories presented in the sentence, the polarity has to be calculated separately###\n",
        "df_final['CategoryPolarities'] = df_final.apply(lambda row:\n",
        "    {category: get_aspect_category_polarity(row['Text'], category)\n",
        "     for category in row['AspectCategories']}, axis=1)"
      ]
    },
    {
      "cell_type": "code",
      "execution_count": null,
      "metadata": {
        "id": "_ZNS5XX6yUO7",
        "outputId": "3d7d8817-ca9b-4ed5-da59-664f0abcd350"
      },
      "outputs": [
        {
          "data": {
            "text/html": [
              "<div>\n",
              "<style scoped>\n",
              "    .dataframe tbody tr th:only-of-type {\n",
              "        vertical-align: middle;\n",
              "    }\n",
              "\n",
              "    .dataframe tbody tr th {\n",
              "        vertical-align: top;\n",
              "    }\n",
              "\n",
              "    .dataframe thead th {\n",
              "        text-align: right;\n",
              "    }\n",
              "</style>\n",
              "<table border=\"1\" class=\"dataframe\">\n",
              "  <thead>\n",
              "    <tr style=\"text-align: right;\">\n",
              "      <th></th>\n",
              "      <th>MasterID</th>\n",
              "      <th>ID</th>\n",
              "      <th>Text</th>\n",
              "      <th>AspectTerms</th>\n",
              "      <th>AspectPolarities</th>\n",
              "      <th>AspectCategories</th>\n",
              "      <th>CategoryPolarities</th>\n",
              "    </tr>\n",
              "  </thead>\n",
              "  <tbody>\n",
              "    <tr>\n",
              "      <th>0</th>\n",
              "      <td>11302355#533813</td>\n",
              "      <td>0</td>\n",
              "      <td>Great food, great waitstaff, great atmosphere,...</td>\n",
              "      <td>[great waitstaff, great beer, great food, grea...</td>\n",
              "      <td>{'great waitstaff': 'positive', 'great beer': ...</td>\n",
              "      <td>[food]</td>\n",
              "      <td>{'food': 'positive'}</td>\n",
              "    </tr>\n",
              "    <tr>\n",
              "      <th>1</th>\n",
              "      <td>11302356#1455624</td>\n",
              "      <td>0</td>\n",
              "      <td>I've been coming here on and off for the past ...</td>\n",
              "      <td>[years, la lanterna]</td>\n",
              "      <td>{'years': 'negative', 'la lanterna': 'negative'}</td>\n",
              "      <td>[service]</td>\n",
              "      <td>{'service': 'neutral'}</td>\n",
              "    </tr>\n",
              "    <tr>\n",
              "      <th>2</th>\n",
              "      <td>11302356#1455624</td>\n",
              "      <td>1</td>\n",
              "      <td>The food is top notch, the service is attentiv...</td>\n",
              "      <td>[top notch, service, atmosphere, food]</td>\n",
              "      <td>{'top notch': 'positive', 'service': 'positive...</td>\n",
              "      <td>[food]</td>\n",
              "      <td>{'food': 'positive'}</td>\n",
              "    </tr>\n",
              "    <tr>\n",
              "      <th>3</th>\n",
              "      <td>11302356#1455624</td>\n",
              "      <td>2</td>\n",
              "      <td>If you' re in New York, you do not want to mis...</td>\n",
              "      <td>[re, new york, place]</td>\n",
              "      <td>{'re': 'positive', 'new york': 'positive', 'pl...</td>\n",
              "      <td>[ambience]</td>\n",
              "      <td>{'ambience': 'neutral'}</td>\n",
              "    </tr>\n",
              "    <tr>\n",
              "      <th>4</th>\n",
              "      <td>11302357#835238</td>\n",
              "      <td>0</td>\n",
              "      <td>What can you say about a place where the waitr...</td>\n",
              "      <td>[waitress, lip, way, wrong entree, place, year...</td>\n",
              "      <td>{'waitress': 'negative', 'lip': 'negative', 'w...</td>\n",
              "      <td>[miscellaneous]</td>\n",
              "      <td>{'miscellaneous': 'neutral'}</td>\n",
              "    </tr>\n",
              "    <tr>\n",
              "      <th>5</th>\n",
              "      <td>11302357#835238</td>\n",
              "      <td>1</td>\n",
              "      <td>The service was pretty poor all around, the fo...</td>\n",
              "      <td>[customer, service, food, cost, place, crazy bum]</td>\n",
              "      <td>{'customer': 'negative', 'service': 'negative'...</td>\n",
              "      <td>[food]</td>\n",
              "      <td>{'food': 'negative'}</td>\n",
              "    </tr>\n",
              "    <tr>\n",
              "      <th>6</th>\n",
              "      <td>11302357#835238</td>\n",
              "      <td>2</td>\n",
              "      <td>The ambiance was pretty cool, but not worth th...</td>\n",
              "      <td>[ambiance, hassle]</td>\n",
              "      <td>{'ambiance': 'positive', 'hassle': 'positive'}</td>\n",
              "      <td>[service]</td>\n",
              "      <td>{'service': 'neutral'}</td>\n",
              "    </tr>\n",
              "    <tr>\n",
              "      <th>7</th>\n",
              "      <td>11302357#835238</td>\n",
              "      <td>3</td>\n",
              "      <td>Probably my worst dining experience in new yor...</td>\n",
              "      <td>[experience, former waiter, new york]</td>\n",
              "      <td>{'experience': 'negative', 'former waiter': 'n...</td>\n",
              "      <td>[service]</td>\n",
              "      <td>{'service': 'neutral'}</td>\n",
              "    </tr>\n",
              "    <tr>\n",
              "      <th>8</th>\n",
              "      <td>11313290#1139539</td>\n",
              "      <td>0</td>\n",
              "      <td>Even after a few bad evenings at Bardolino, I ...</td>\n",
              "      <td>[bardolino, few bad evenings]</td>\n",
              "      <td>{'bardolino': 'negative', 'few bad evenings': ...</td>\n",
              "      <td>[ambience]</td>\n",
              "      <td>{'ambience': 'neutral'}</td>\n",
              "    </tr>\n",
              "    <tr>\n",
              "      <th>9</th>\n",
              "      <td>11313290#1139539</td>\n",
              "      <td>1</td>\n",
              "      <td>The new menu has a few creative items,they wer...</td>\n",
              "      <td>[favorite words, old favorites, time, new menu...</td>\n",
              "      <td>{'favorite words': 'positive', 'old favorites'...</td>\n",
              "      <td>[miscellaneous]</td>\n",
              "      <td>{'miscellaneous': 'neutral'}</td>\n",
              "    </tr>\n",
              "    <tr>\n",
              "      <th>10</th>\n",
              "      <td>11313316#1234433</td>\n",
              "      <td>0</td>\n",
              "      <td>This is definitely one of the places that I ha...</td>\n",
              "      <td>[years, places]</td>\n",
              "      <td>{'years': 'neutral', 'places': 'neutral'}</td>\n",
              "      <td>[service]</td>\n",
              "      <td>{'service': 'neutral'}</td>\n",
              "    </tr>\n",
              "  </tbody>\n",
              "</table>\n",
              "</div>"
            ],
            "text/plain": [
              "            MasterID  ID                                               Text  \\\n",
              "0    11302355#533813   0  Great food, great waitstaff, great atmosphere,...   \n",
              "1   11302356#1455624   0  I've been coming here on and off for the past ...   \n",
              "2   11302356#1455624   1  The food is top notch, the service is attentiv...   \n",
              "3   11302356#1455624   2  If you' re in New York, you do not want to mis...   \n",
              "4    11302357#835238   0  What can you say about a place where the waitr...   \n",
              "5    11302357#835238   1  The service was pretty poor all around, the fo...   \n",
              "6    11302357#835238   2  The ambiance was pretty cool, but not worth th...   \n",
              "7    11302357#835238   3  Probably my worst dining experience in new yor...   \n",
              "8   11313290#1139539   0  Even after a few bad evenings at Bardolino, I ...   \n",
              "9   11313290#1139539   1  The new menu has a few creative items,they wer...   \n",
              "10  11313316#1234433   0  This is definitely one of the places that I ha...   \n",
              "\n",
              "                                          AspectTerms  \\\n",
              "0   [great waitstaff, great beer, great food, grea...   \n",
              "1                                [years, la lanterna]   \n",
              "2              [top notch, service, atmosphere, food]   \n",
              "3                               [re, new york, place]   \n",
              "4   [waitress, lip, way, wrong entree, place, year...   \n",
              "5   [customer, service, food, cost, place, crazy bum]   \n",
              "6                                  [ambiance, hassle]   \n",
              "7               [experience, former waiter, new york]   \n",
              "8                       [bardolino, few bad evenings]   \n",
              "9   [favorite words, old favorites, time, new menu...   \n",
              "10                                    [years, places]   \n",
              "\n",
              "                                     AspectPolarities AspectCategories  \\\n",
              "0   {'great waitstaff': 'positive', 'great beer': ...           [food]   \n",
              "1    {'years': 'negative', 'la lanterna': 'negative'}        [service]   \n",
              "2   {'top notch': 'positive', 'service': 'positive...           [food]   \n",
              "3   {'re': 'positive', 'new york': 'positive', 'pl...       [ambience]   \n",
              "4   {'waitress': 'negative', 'lip': 'negative', 'w...  [miscellaneous]   \n",
              "5   {'customer': 'negative', 'service': 'negative'...           [food]   \n",
              "6      {'ambiance': 'positive', 'hassle': 'positive'}        [service]   \n",
              "7   {'experience': 'negative', 'former waiter': 'n...        [service]   \n",
              "8   {'bardolino': 'negative', 'few bad evenings': ...       [ambience]   \n",
              "9   {'favorite words': 'positive', 'old favorites'...  [miscellaneous]   \n",
              "10          {'years': 'neutral', 'places': 'neutral'}        [service]   \n",
              "\n",
              "              CategoryPolarities  \n",
              "0           {'food': 'positive'}  \n",
              "1         {'service': 'neutral'}  \n",
              "2           {'food': 'positive'}  \n",
              "3        {'ambience': 'neutral'}  \n",
              "4   {'miscellaneous': 'neutral'}  \n",
              "5           {'food': 'negative'}  \n",
              "6         {'service': 'neutral'}  \n",
              "7         {'service': 'neutral'}  \n",
              "8        {'ambience': 'neutral'}  \n",
              "9   {'miscellaneous': 'neutral'}  \n",
              "10        {'service': 'neutral'}  "
            ]
          },
          "execution_count": 160,
          "metadata": {},
          "output_type": "execute_result"
        }
      ],
      "source": [
        "df_final[['MasterID', 'ID', 'Text', 'AspectTerms', 'AspectPolarities', 'AspectCategories', 'CategoryPolarities']].head(11)"
      ]
    },
    {
      "cell_type": "markdown",
      "metadata": {
        "id": "AHv3Mgc5yUO7"
      },
      "source": [
        "Currently, the null values in 'AspectTerms' 'AspectPolarities' 'AspectCategories' 'CategoryPolarities' was [] {} [] {}, so that we cannot count null as usual."
      ]
    },
    {
      "cell_type": "code",
      "execution_count": null,
      "metadata": {
        "id": "vgRQl9a4yUO7",
        "outputId": "d4163ad1-16f9-4ce1-9c7d-7a143143e6fd"
      },
      "outputs": [
        {
          "data": {
            "text/html": [
              "<div>\n",
              "<style scoped>\n",
              "    .dataframe tbody tr th:only-of-type {\n",
              "        vertical-align: middle;\n",
              "    }\n",
              "\n",
              "    .dataframe tbody tr th {\n",
              "        vertical-align: top;\n",
              "    }\n",
              "\n",
              "    .dataframe thead th {\n",
              "        text-align: right;\n",
              "    }\n",
              "</style>\n",
              "<table border=\"1\" class=\"dataframe\">\n",
              "  <thead>\n",
              "    <tr style=\"text-align: right;\">\n",
              "      <th></th>\n",
              "      <th>Null Count</th>\n",
              "      <th>Null Percentage</th>\n",
              "    </tr>\n",
              "  </thead>\n",
              "  <tbody>\n",
              "    <tr>\n",
              "      <th>AspectTerms</th>\n",
              "      <td>22</td>\n",
              "      <td>2.743142</td>\n",
              "    </tr>\n",
              "    <tr>\n",
              "      <th>AspectPolarities</th>\n",
              "      <td>22</td>\n",
              "      <td>2.743142</td>\n",
              "    </tr>\n",
              "    <tr>\n",
              "      <th>MasterID</th>\n",
              "      <td>0</td>\n",
              "      <td>0.000000</td>\n",
              "    </tr>\n",
              "    <tr>\n",
              "      <th>ID</th>\n",
              "      <td>0</td>\n",
              "      <td>0.000000</td>\n",
              "    </tr>\n",
              "    <tr>\n",
              "      <th>Text</th>\n",
              "      <td>0</td>\n",
              "      <td>0.000000</td>\n",
              "    </tr>\n",
              "    <tr>\n",
              "      <th>AspectCategories</th>\n",
              "      <td>0</td>\n",
              "      <td>0.000000</td>\n",
              "    </tr>\n",
              "    <tr>\n",
              "      <th>CategoryPolarities</th>\n",
              "      <td>0</td>\n",
              "      <td>0.000000</td>\n",
              "    </tr>\n",
              "  </tbody>\n",
              "</table>\n",
              "</div>"
            ],
            "text/plain": [
              "                    Null Count  Null Percentage\n",
              "AspectTerms                 22         2.743142\n",
              "AspectPolarities            22         2.743142\n",
              "MasterID                     0         0.000000\n",
              "ID                           0         0.000000\n",
              "Text                         0         0.000000\n",
              "AspectCategories             0         0.000000\n",
              "CategoryPolarities           0         0.000000"
            ]
          },
          "execution_count": 163,
          "metadata": {},
          "output_type": "execute_result"
        }
      ],
      "source": [
        "# Function to check if a value is effectively null (empty list or dict)\n",
        "def is_effectively_null(value):\n",
        "    if isinstance(value, list) or isinstance(value, dict):\n",
        "        return len(value) == 0\n",
        "    return pd.isna(value)\n",
        "\n",
        "# Count effectively null values for each column\n",
        "null_counts = {}\n",
        "for column in df_final.columns:\n",
        "    null_counts[column] = df_final[column].apply(is_effectively_null).sum()\n",
        "\n",
        "# Create a DataFrame to display the results\n",
        "null_df = pd.DataFrame.from_dict(null_counts, orient='index', columns=['Null Count'])\n",
        "null_df['Null Percentage'] = (null_df['Null Count'] / len(df_final)) * 100\n",
        "\n",
        "# Sort by null count in descending order\n",
        "null_df = null_df.sort_values('Null Count', ascending=False)\n",
        "\n",
        "null_df"
      ]
    },
    {
      "cell_type": "code",
      "source": [
        "### A big missing from this notebook is the accuracy of the methodology you are using ###\n",
        "### Typically, the accuracies of the four tasks are calculated based on the labels provided in the dataset.###"
      ],
      "metadata": {
        "id": "OeSuuMPT3tiN"
      },
      "execution_count": null,
      "outputs": []
    }
  ],
  "metadata": {
    "kernelspec": {
      "display_name": "Python 3",
      "language": "python",
      "name": "python3"
    },
    "language_info": {
      "codemirror_mode": {
        "name": "ipython",
        "version": 3
      },
      "file_extension": ".py",
      "mimetype": "text/x-python",
      "name": "python",
      "nbconvert_exporter": "python",
      "pygments_lexer": "ipython3",
      "version": "3.12.1"
    },
    "colab": {
      "provenance": []
    }
  },
  "nbformat": 4,
  "nbformat_minor": 0
}